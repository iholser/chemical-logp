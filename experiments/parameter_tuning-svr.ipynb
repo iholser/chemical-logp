{
 "cells": [
  {
   "cell_type": "markdown",
   "id": "fa10bfa0",
   "metadata": {},
   "source": [
    "Hyperparameter tuning and model validation"
   ]
  },
  {
   "cell_type": "code",
   "execution_count": 1,
   "id": "54546381",
   "metadata": {},
   "outputs": [],
   "source": [
    "from e3fp.fingerprint.fprint import Fingerprint\n",
    "from e3fp.fingerprint.db import FingerprintDatabase\n",
    "from e3fp.fingerprint.metrics.array_metrics import tanimoto\n",
    "import matplotlib.pyplot as pyplot\n",
    "import numpy as np\n",
    "import pandas as pd\n",
    "import pickle\n",
    "from sklearn.svm import SVR\n",
    "from sklearn.metrics import accuracy_score\n",
    "from sklearn.metrics import r2_score\n",
    "from sklearn.model_selection import train_test_split\n",
    "from sklearn.model_selection import GridSearchCV"
   ]
  },
  {
   "cell_type": "code",
   "execution_count": 2,
   "id": "6b53602d",
   "metadata": {},
   "outputs": [],
   "source": [
    "logP = pickle.load(open(\"logp_df.p\", \"rb\"))"
   ]
  },
  {
   "cell_type": "code",
   "execution_count": 3,
   "id": "0ee7cec9",
   "metadata": {},
   "outputs": [],
   "source": [
    "X_train, X_test, y_train, y_test = train_test_split(logP['fingerprint'], logP['logp'], test_size=0.2, random_state=42)"
   ]
  },
  {
   "cell_type": "code",
   "execution_count": 4,
   "id": "7c7edd60",
   "metadata": {},
   "outputs": [],
   "source": [
    "X_train_db = FingerprintDatabase(fp_type=Fingerprint, name=\"X_train\")\n",
    "X_train_db.add_fingerprints(X_train.values)\n",
    "X_train_db_fold = X_train_db.fold(1024)"
   ]
  },
  {
   "cell_type": "code",
   "execution_count": 5,
   "id": "a8ab623e",
   "metadata": {},
   "outputs": [
    {
     "name": "stdout",
     "output_type": "stream",
     "text": [
      "Fitting 5 folds for each of 36 candidates, totalling 180 fits\n"
     ]
    },
    {
     "data": {
      "text/plain": [
       "GridSearchCV(cv=5, estimator=SVR(),\n",
       "             param_grid={'C': [1, 5, 10], 'coef0': [0.01, 10, 0.5],\n",
       "                         'degree': [3, 8], 'gamma': ['scale', 'auto'],\n",
       "                         'kernel': [<function tanimoto at 0x10faa13a0>]},\n",
       "             verbose=1)"
      ]
     },
     "execution_count": 5,
     "metadata": {},
     "output_type": "execute_result"
    }
   ],
   "source": [
    "param = {\n",
    "    'kernel': [tanimoto],\n",
    "    'degree' : [3,8],\n",
    "    'coef0' : [0.01,10,0.5],\n",
    "    'gamma': ['scale', 'auto'],\n",
    "    'C': [1, 5, 10]\n",
    "}\n",
    "                           \n",
    "grid = GridSearchCV(SVR(), param_grid=param, cv=5, verbose=1)\n",
    "grid.fit(X_train_db_fold.array, y_train)"
   ]
  },
  {
   "cell_type": "code",
   "execution_count": 6,
   "id": "c2275654",
   "metadata": {},
   "outputs": [
    {
     "data": {
      "text/plain": [
       "{'C': 5,\n",
       " 'coef0': 0.01,\n",
       " 'degree': 3,\n",
       " 'gamma': 'scale',\n",
       " 'kernel': <function e3fp.fingerprint.metrics.array_metrics.tanimoto(X, Y=None)>}"
      ]
     },
     "execution_count": 6,
     "metadata": {},
     "output_type": "execute_result"
    }
   ],
   "source": [
    "grid.best_params_"
   ]
  },
  {
   "cell_type": "code",
   "execution_count": 7,
   "id": "2c0ad07a",
   "metadata": {},
   "outputs": [
    {
     "data": {
      "text/plain": [
       "SVR(C=5, kernel=<function tanimoto at 0x10faa13a0>)"
      ]
     },
     "execution_count": 7,
     "metadata": {},
     "output_type": "execute_result"
    }
   ],
   "source": [
    "clf = SVR(C=5, degree=3, kernel=tanimoto )\n",
    "clf.fit(X_train_db_fold.array, y_train)"
   ]
  },
  {
   "cell_type": "code",
   "execution_count": 13,
   "metadata": {},
   "outputs": [],
   "source": [
    "X_test_db = FingerprintDatabase(fp_type=Fingerprint, name=\"X_test\")\n",
    "X_test_db.add_fingerprints(X_test.values)\n",
    "X_test_db_fold = X_test_db.fold(1024)\n",
    "\n",
    "y_pred = clf.predict(X_test_db_fold.array)"
   ]
  },
  {
   "cell_type": "code",
   "execution_count": 12,
   "metadata": {},
   "outputs": [
    {
     "data": {
      "text/plain": [
       "0.9013064925700364"
      ]
     },
     "execution_count": 12,
     "metadata": {},
     "output_type": "execute_result"
    }
   ],
   "source": [
    "r2_score(y_pred, y_test)"
   ]
  },
  {
   "cell_type": "code",
   "execution_count": 14,
   "metadata": {},
   "outputs": [],
   "source": [
    "db = FingerprintDatabase(fp_type=Fingerprint, name=\"logp\")\n",
    "db.add_fingerprints(logP.fingerprint)\n",
    "db_fold = db.fold(1024)"
   ]
  },
  {
   "cell_type": "code",
   "execution_count": 25,
   "metadata": {},
   "outputs": [],
   "source": [
    "logP['pred_logp'] = clf.predict(db_fold.array)"
   ]
  },
  {
   "cell_type": "code",
   "execution_count": 27,
   "metadata": {},
   "outputs": [
    {
     "data": {
      "image/png": "[encoded data removed]",
      "text/plain": [
       "<Figure size 432x288 with 1 Axes>"
      ]
     },
     "metadata": {
      "needs_background": "light"
     },
     "output_type": "display_data"
    },
    {
     "data": {
      "image/png": "[encoded data removed]",
      "text/plain": [
       "<Figure size 432x288 with 1 Axes>"
      ]
     },
     "metadata": {
      "needs_background": "light"
     },
     "output_type": "display_data"
    }
   ],
   "source": [
    "r2 = r2_score(logP['logp'], logP['rdkit_logp'])\n",
    "pyplot.scatter(logP['logp'], logP['rdkit_logp'], label='rdkit R²: %f' % r2)\n",
    "pyplot.legend()\n",
    "pyplot.show()\n",
    "\n",
    "r2 = r2_score(logP['logp'], logP['pred_logp'])\n",
    "pyplot.scatter(logP['logp'], logP['pred_logp'], label='predicted R²: %f' % r2)\n",
    "pyplot.legend()\n",
    "pyplot.show()"
   ]
  },
  {
   "cell_type": "markdown",
   "metadata": {},
   "source": [
    "Conclusion: The model performs relatively well and for this dataset is a significant improvement over the results from Rdkit's implementation of the method developed by Wildman and Crippen."
   ]
  },
  {
   "cell_type": "markdown",
   "metadata": {},
   "source": [
    "Wildman, S., Crippen, G. Prediction of Physicochemical Parameters by Atomic Contributions. J. Chem. Inf. Comput. Sci 868-873 (1999)"
   ]
  }
 ],
 "metadata": {
  "kernelspec": {
   "display_name": "Python 3 (ipykernel)",
   "language": "python",
   "name": "python3"
  },
  "language_info": {
   "codemirror_mode": {
    "name": "ipython",
    "version": 3
   },
   "file_extension": ".py",
   "mimetype": "text/x-python",
   "name": "python",
   "nbconvert_exporter": "python",
   "pygments_lexer": "ipython3",
   "version": "3.9.10"
  }
 },
 "nbformat": 4,
 "nbformat_minor": 5
}
