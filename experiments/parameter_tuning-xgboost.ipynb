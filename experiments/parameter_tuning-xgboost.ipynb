{
 "cells": [
  {
   "cell_type": "markdown",
   "id": "fa10bfa0",
   "metadata": {},
   "source": [
    "Hyperparameter tuning and model validation"
   ]
  },
  {
   "cell_type": "code",
   "execution_count": 1,
   "id": "54546381",
   "metadata": {},
   "outputs": [],
   "source": [
    "from e3fp.fingerprint.fprint import Fingerprint\n",
    "from e3fp.fingerprint.fprint import CountFingerprint\n",
    "from e3fp.fingerprint.db import FingerprintDatabase\n",
    "from e3fp.fingerprint.metrics.array_metrics import tanimoto\n",
    "import matplotlib.pyplot as pyplot\n",
    "import numpy as np\n",
    "import pandas as pd\n",
    "import pickle\n",
    "from scipy.sparse import csr_matrix\n",
    "from sklearn.metrics import accuracy_score\n",
    "from sklearn.metrics import r2_score\n",
    "from sklearn.model_selection import train_test_split\n",
    "from sklearn.model_selection import GridSearchCV\n",
    "from sklearn.utils import resample\n",
    "from xgboost import XGBRegressor\n",
    "import xgboost as xgb"
   ]
  },
  {
   "cell_type": "code",
   "execution_count": 2,
   "id": "6b53602d",
   "metadata": {},
   "outputs": [],
   "source": [
    "logP = pickle.load(open(\"logp_df.p\", \"rb\"))"
   ]
  },
  {
   "cell_type": "code",
   "execution_count": 3,
   "metadata": {},
   "outputs": [],
   "source": [
    "logP['cprint'] = logP.fingerprint.apply(CountFingerprint.from_fingerprint)"
   ]
  },
  {
   "cell_type": "code",
   "execution_count": 4,
   "metadata": {},
   "outputs": [
    {
     "data": {
      "text/plain": [
       "<1x2048 sparse matrix of type '<class 'numpy.uint16'>'\n",
       "\twith 17 stored elements in Compressed Sparse Row format>"
      ]
     },
     "execution_count": 4,
     "metadata": {},
     "output_type": "execute_result"
    }
   ],
   "source": [
    "logP.cprint[1].to_vector()"
   ]
  },
  {
   "cell_type": "code",
   "execution_count": 5,
   "metadata": {},
   "outputs": [],
   "source": [
    "X_sample, y_sample = resample(logP['cprint'], logP['logp'], n_samples=500, random_state=42)"
   ]
  },
  {
   "cell_type": "code",
   "execution_count": 6,
   "metadata": {},
   "outputs": [
    {
     "data": {
      "text/plain": [
       "7270     (False, False, False, False, False, False, Fal...\n",
       "860      (False, True, False, False, False, False, Fals...\n",
       "5390     (False, False, False, False, False, False, Fal...\n",
       "13418    (False, False, False, False, False, False, Fal...\n",
       "5191     (False, False, False, False, False, False, Fal...\n",
       "                               ...                        \n",
       "5596     (False, False, False, False, False, False, Fal...\n",
       "5801     (False, False, False, False, False, False, Fal...\n",
       "2806     (False, False, False, False, False, False, Fal...\n",
       "537      (False, False, False, False, False, False, Fal...\n",
       "5986     (False, False, False, False, False, False, Fal...\n",
       "Name: cprint, Length: 500, dtype: object"
      ]
     },
     "execution_count": 6,
     "metadata": {},
     "output_type": "execute_result"
    }
   ],
   "source": [
    "X_sample"
   ]
  },
  {
   "cell_type": "code",
   "execution_count": 7,
   "id": "7c7edd60",
   "metadata": {},
   "outputs": [],
   "source": [
    "\n",
    "\n",
    "X_sample_db = FingerprintDatabase(fp_type=CountFingerprint, name=\"X_sample\")\n",
    "X_sample_db.add_fingerprints(X_sample.values)\n",
    "X_sample_db_fold = X_sample_db.fold(1024)"
   ]
  },
  {
   "cell_type": "code",
   "execution_count": 8,
   "metadata": {},
   "outputs": [
    {
     "data": {
      "text/plain": [
       "<1x1024 sparse matrix of type '<class 'numpy.uint16'>'\n",
       "\twith 16 stored elements in Compressed Sparse Row format>"
      ]
     },
     "execution_count": 8,
     "metadata": {},
     "output_type": "execute_result"
    }
   ],
   "source": [
    "X_sample_db_fold.array[0]"
   ]
  },
  {
   "cell_type": "code",
   "execution_count": 9,
   "id": "a8ab623e",
   "metadata": {},
   "outputs": [
    {
     "name": "stdout",
     "output_type": "stream",
     "text": [
      "Fitting 5 folds for each of 36 candidates, totalling 180 fits\n"
     ]
    },
    {
     "data": {
      "text/plain": [
       "GridSearchCV(cv=5,\n",
       "             estimator=XGBRegressor(base_score=None, booster=None,\n",
       "                                    colsample_bylevel=None,\n",
       "                                    colsample_bynode=None,\n",
       "                                    colsample_bytree=None,\n",
       "                                    enable_categorical=False, gamma=None,\n",
       "                                    gpu_id=None, importance_type=None,\n",
       "                                    interaction_constraints=None,\n",
       "                                    learning_rate=None, max_delta_step=None,\n",
       "                                    max_depth=None, min_child_weight=None,\n",
       "                                    missing=nan, monotone_constraints=None,\n",
       "                                    n...\n",
       "                                    reg_lambda=None, scale_pos_weight=None,\n",
       "                                    subsample=None, tree_method=None,\n",
       "                                    validate_parameters=None, verbosity=None),\n",
       "             param_grid={'colsample_bytree': [0.7, 0.8],\n",
       "                         'learning_rate': [0.05], 'max_depth': [5, 6, 7],\n",
       "                         'min_child_weight': [11], 'missing': [-999],\n",
       "                         'n_estimators': [500, 1000, 1500], 'nthread': [4],\n",
       "                         'objective': ['reg:squarederror'], 'seed': [42],\n",
       "                         'subsample': [0.7, 0.8]},\n",
       "             verbose=1)"
      ]
     },
     "execution_count": 9,
     "metadata": {},
     "output_type": "execute_result"
    }
   ],
   "source": [
    "param = {\n",
    "    'nthread': [4], #when use hyperthread, xgboost may become slower\n",
    "    'objective': ['reg:squarederror'],\n",
    "    'learning_rate': [0.05], #so called `eta` value\n",
    "    'max_depth': [5, 6, 7],\n",
    "    'min_child_weight': [11],\n",
    "    'subsample': [0.7, 0.8],\n",
    "    'colsample_bytree': [0.7, 0.8],\n",
    "    'n_estimators': [500, 1000, 1500], #number of trees, change it to 1000 for better results\n",
    "    'missing':[-999],\n",
    "    'seed': [42],\n",
    "}\n",
    "\n",
    "grid = GridSearchCV(XGBRegressor(), param_grid=param, cv=5, verbose=1)\n",
    "grid.fit(X_sample_db_fold.array, y_sample)"
   ]
  },
  {
   "cell_type": "code",
   "execution_count": 55,
   "id": "c2275654",
   "metadata": {},
   "outputs": [
    {
     "data": {
      "text/plain": [
       "{'colsample_bytree': 0.8,\n",
       " 'learning_rate': 0.05,\n",
       " 'max_depth': 6,\n",
       " 'min_child_weight': 11,\n",
       " 'missing': -999,\n",
       " 'n_estimators': 500,\n",
       " 'nthread': 4,\n",
       " 'objective': 'reg:squarederror',\n",
       " 'seed': 42,\n",
       " 'subsample': 0.7}"
      ]
     },
     "execution_count": 55,
     "metadata": {},
     "output_type": "execute_result"
    }
   ],
   "source": [
    "grid.best_params_"
   ]
  },
  {
   "cell_type": "code",
   "execution_count": 13,
   "metadata": {},
   "outputs": [],
   "source": [
    "X_train, X_test, y_train, y_test = train_test_split(logP['cprint'], logP['logp'], test_size=0.2, random_state=42)"
   ]
  },
  {
   "cell_type": "code",
   "execution_count": 14,
   "id": "7c7edd60",
   "metadata": {},
   "outputs": [],
   "source": [
    "X_train_db = FingerprintDatabase(fp_type=CountFingerprint, name=\"X_train\")\n",
    "X_train_db.add_fingerprints(X_train.values)\n",
    "X_train_db_fold = X_train_db.fold(1024)"
   ]
  },
  {
   "cell_type": "code",
   "execution_count": 15,
   "id": "2c0ad07a",
   "metadata": {},
   "outputs": [
    {
     "data": {
      "text/plain": [
       "XGBRegressor(base_score=0.5, booster='gbtree', colsample_bylevel=1,\n",
       "             colsample_bynode=1, colsample_bytree=0.8, enable_categorical=False,\n",
       "             gamma=0, gpu_id=-1, importance_type=None,\n",
       "             interaction_constraints='', learning_rate=0.05, max_delta_step=0,\n",
       "             max_depth=6, min_child_weight=11, missing=-999,\n",
       "             monotone_constraints='()', n_estimators=500, n_jobs=4, nthread=4,\n",
       "             num_parallel_tree=1, predictor='auto', random_state=42,\n",
       "             reg_alpha=0, reg_lambda=1, scale_pos_weight=1, seed=42,\n",
       "             subsample=0.7, tree_method='exact', validate_parameters=1,\n",
       "             verbosity=None)"
      ]
     },
     "execution_count": 15,
     "metadata": {},
     "output_type": "execute_result"
    }
   ],
   "source": [
    "clf = XGBRegressor(colsample_bytree=0.8,\n",
    " learning_rate=0.05,\n",
    " max_depth=6,\n",
    " min_child_weight=11,\n",
    " missing=-999,\n",
    " n_estimators=500,\n",
    " nthread=4,\n",
    " objective='reg:squarederror',\n",
    " seed=42,\n",
    " subsample=0.7)\n",
    "clf.fit(X_train_db_fold.array, y_train)"
   ]
  },
  {
   "cell_type": "code",
   "execution_count": 16,
   "metadata": {},
   "outputs": [],
   "source": [
    "X_test_db = FingerprintDatabase(fp_type=CountFingerprint, name=\"X_test\")\n",
    "X_test_db.add_fingerprints(X_test.values)\n",
    "X_test_db_fold = X_test_db.fold(1024)\n",
    "\n",
    "y_pred = clf.predict(X_test_db_fold.array)"
   ]
  },
  {
   "cell_type": "code",
   "execution_count": 17,
   "metadata": {},
   "outputs": [
    {
     "data": {
      "text/plain": [
       "0.827232163921201"
      ]
     },
     "execution_count": 17,
     "metadata": {},
     "output_type": "execute_result"
    }
   ],
   "source": [
    "r2_score(y_pred, y_test)"
   ]
  },
  {
   "cell_type": "code",
   "execution_count": 18,
   "metadata": {},
   "outputs": [],
   "source": [
    "db = FingerprintDatabase(fp_type=CountFingerprint, name=\"logp\")\n",
    "db.add_fingerprints(logP.cprint)\n",
    "db_fold = db.fold(1024)"
   ]
  },
  {
   "cell_type": "code",
   "execution_count": 19,
   "metadata": {},
   "outputs": [],
   "source": [
    "logP['xgboost_logp'] = clf.predict(db_fold.array)"
   ]
  },
  {
   "cell_type": "code",
   "execution_count": 20,
   "metadata": {},
   "outputs": [
    {
     "data": {
      "image/png": "[encoded data removed]",
      "text/plain": [
       "<Figure size 432x288 with 1 Axes>"
      ]
     },
     "metadata": {
      "needs_background": "light"
     },
     "output_type": "display_data"
    }
   ],
   "source": [
    "r2 = r2_score(logP['logp'], logP['rdkit_logp'])\n",
    "pyplot.scatter(logP['logp'], logP['rdkit_logp'], alpha=0.2, s=8, label='rdkit R²: %f' % r2)\n",
    "\n",
    "r2 = r2_score(logP['logp'], logP['xgboost_logp'])\n",
    "pyplot.scatter(logP['logp'], logP['xgboost_logp'], alpha=0.2, s=8, label='predicted R²: %f' % r2)\n",
    "pyplot.title('Model fit: RDkit vs XGBoost')\n",
    "pyplot.legend()\n",
    "pyplot.plot([-6, 6], [-6, 6], c=\"b\")\n",
    "pyplot.show()"
   ]
  },
  {
   "cell_type": "markdown",
   "metadata": {},
   "source": [
    "Conclusion: The model performs ok, but can likely be improved upon."
   ]
  }
 ],
 "metadata": {
  "kernelspec": {
   "display_name": "Python 3 (ipykernel)",
   "language": "python",
   "name": "python3"
  },
  "language_info": {
   "codemirror_mode": {
    "name": "ipython",
    "version": 3
   },
   "file_extension": ".py",
   "mimetype": "text/x-python",
   "name": "python",
   "nbconvert_exporter": "python",
   "pygments_lexer": "ipython3",
   "version": "3.9.10"
  }
 },
 "nbformat": 4,
 "nbformat_minor": 5
}
