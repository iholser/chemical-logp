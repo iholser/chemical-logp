{
 "cells": [
  {
   "cell_type": "code",
   "execution_count": 79,
   "metadata": {},
   "outputs": [],
   "source": [
    "from e3fp.fingerprint.fprint import Fingerprint\n",
    "from e3fp.fingerprint.fprint import CountFingerprint\n",
    "from e3fp.fingerprint.db import FingerprintDatabase\n",
    "from e3fp.fingerprint.metrics.array_metrics import tanimoto\n",
    "import matplotlib.pyplot as pyplot\n",
    "import numpy as np\n",
    "import pandas as pd\n",
    "import pickle\n",
    "from scipy.sparse import csr_matrix\n",
    "from sklearn.metrics import accuracy_score\n",
    "from sklearn.metrics import r2_score\n",
    "from sklearn.model_selection import train_test_split\n",
    "from sklearn.preprocessing import StandardScaler\n",
    "from sklearn.utils import resample\n",
    "import torch\n",
    "import torch.nn as nn"
   ]
  },
  {
   "cell_type": "code",
   "execution_count": 2,
   "metadata": {},
   "outputs": [],
   "source": [
    "logP = pickle.load(open(\"logp_df.p\", \"rb\"))"
   ]
  },
  {
   "cell_type": "code",
   "execution_count": 83,
   "metadata": {},
   "outputs": [],
   "source": [
    "X_train, X_test, y_train, y_test = train_test_split(logP['fingerprint'], y, test_size=0.2, random_state=42)"
   ]
  },
  {
   "cell_type": "code",
   "execution_count": 84,
   "metadata": {},
   "outputs": [],
   "source": [
    "X_train_db = FingerprintDatabase(fp_type=Fingerprint, name=\"X_train\")\n",
    "X_train_db.add_fingerprints(X_train.values)\n",
    "X_train_db_fold = X_train_db.fold(1024)\n",
    "\n",
    "X_test_db = FingerprintDatabase(fp_type=Fingerprint, name=\"X_test\")\n",
    "X_test_db.add_fingerprints(X_test.values)\n",
    "X_test_db_fold = X_test_db.fold(1024)"
   ]
  },
  {
   "cell_type": "code",
   "execution_count": 85,
   "metadata": {},
   "outputs": [
    {
     "data": {
      "text/plain": [
       "tensor([[0., 0., 0.,  ..., 0., 0., 0.],\n",
       "        [0., 0., 0.,  ..., 0., 0., 0.],\n",
       "        [0., 0., 0.,  ..., 0., 0., 1.],\n",
       "        ...,\n",
       "        [0., 0., 0.,  ..., 1., 0., 0.],\n",
       "        [0., 1., 0.,  ..., 0., 0., 0.],\n",
       "        [0., 0., 0.,  ..., 0., 0., 0.]])"
      ]
     },
     "execution_count": 85,
     "metadata": {},
     "output_type": "execute_result"
    }
   ],
   "source": [
    "X_train_torch = torch.tensor(X_train_db_fold.array.toarray()).float()\n",
    "X_test_torch = torch.tensor(X_test_db_fold.array.toarray()).float()\n",
    "X_train_torch"
   ]
  },
  {
   "cell_type": "code",
   "execution_count": 87,
   "metadata": {},
   "outputs": [
    {
     "data": {
      "text/plain": [
       "array([[ 1.02634527e-03],\n",
       "       [-1.99829424e+00],\n",
       "       [ 1.02634527e-03],\n",
       "       ...,\n",
       "       [-9.98633946e-01],\n",
       "       [ 7.79232908e-02],\n",
       "       [ 7.79232908e-02]])"
      ]
     },
     "execution_count": 87,
     "metadata": {},
     "output_type": "execute_result"
    }
   ],
   "source": [
    "y_train"
   ]
  },
  {
   "cell_type": "code",
   "execution_count": 88,
   "metadata": {},
   "outputs": [
    {
     "data": {
      "text/plain": [
       "tensor([[ 1.0263e-03],\n",
       "        [-1.9983e+00],\n",
       "        [ 1.0263e-03],\n",
       "        ...,\n",
       "        [-9.9863e-01],\n",
       "        [ 7.7923e-02],\n",
       "        [ 7.7923e-02]])"
      ]
     },
     "execution_count": 88,
     "metadata": {},
     "output_type": "execute_result"
    }
   ],
   "source": [
    "y_train_torch = torch.tensor(y_train).float()\n",
    "y_test_torch = torch.tensor(y_test).float()\n",
    "y_train_torch"
   ]
  },
  {
   "cell_type": "code",
   "execution_count": 89,
   "metadata": {},
   "outputs": [
    {
     "data": {
      "text/plain": [
       "torch.Size([11688, 1024])"
      ]
     },
     "execution_count": 89,
     "metadata": {},
     "output_type": "execute_result"
    }
   ],
   "source": [
    "X_train_torch.shape"
   ]
  },
  {
   "cell_type": "code",
   "execution_count": 90,
   "metadata": {},
   "outputs": [],
   "source": [
    "from torch.utils.data import TensorDataset\n",
    "train_dataset = TensorDataset(X_train_torch, y_train_torch)\n",
    "test_dataset = TensorDataset(X_test_torch, y_test_torch)\n",
    "\n",
    "train_loader = torch.utils.data.DataLoader(dataset=train_dataset, batch_size=256, shuffle=True)\n",
    "test_loader = torch.utils.data.DataLoader(dataset=test_dataset, batch_size=256, shuffle=True)"
   ]
  },
  {
   "cell_type": "code",
   "execution_count": 91,
   "metadata": {},
   "outputs": [
    {
     "name": "stdout",
     "output_type": "stream",
     "text": [
      "Using cpu device\n"
     ]
    }
   ],
   "source": [
    "device = \"cuda\" if torch.cuda.is_available() else \"cpu\"\n",
    "print(f\"Using {device} device\")"
   ]
  },
  {
   "cell_type": "code",
   "execution_count": 92,
   "metadata": {},
   "outputs": [],
   "source": [
    "class Net(nn.Module):\n",
    "    def __init__(self, input_size, hidden_size, dropout_rate, out_size):\n",
    "        super(Net, self).__init__()\n",
    "        self.fc1 = nn.Linear(input_size, hidden_size)\n",
    "        self.fc2 = nn.Linear(hidden_size, hidden_size)\n",
    "        self.fc3 = nn.Linear(hidden_size, hidden_size)\n",
    "        self.fc_out = nn.Linear(hidden_size, out_size)\n",
    "        self.ln1 = nn.LayerNorm(hidden_size)\n",
    "        self.ln2 = nn.LayerNorm(hidden_size)\n",
    "        self.ln3 = nn.LayerNorm(hidden_size)\n",
    "        \n",
    "        self.activation = nn.LeakyReLU()\n",
    "        self.dropout = nn.Dropout(dropout_rate)\n",
    "    def forward(self, x):\n",
    "        out = self.fc1(x)\n",
    "        out = self.ln1(out)\n",
    "        out = self.activation(out)\n",
    "        out = self.dropout(out)\n",
    "        out = self.fc2(out)\n",
    "        out = self.ln2(out)\n",
    "        out = self.activation(out)\n",
    "        out = self.dropout(out)\n",
    "        out = self.fc3(out)\n",
    "        out = self.ln3(out)\n",
    "        out = self.activation(out)\n",
    "        out = self.dropout(out)\n",
    "        out = self.fc_out(out)\n",
    "        return out"
   ]
  },
  {
   "cell_type": "code",
   "execution_count": 93,
   "metadata": {},
   "outputs": [],
   "source": [
    "input_size = X_train_torch.size()[-1]\n",
    "hidden_size = 1024\n",
    "dropout_rate = 0.80\n",
    "output_size = 1\n",
    "learning_rate = 0.001\n",
    "model = Net(input_size, hidden_size, dropout_rate, output_size)"
   ]
  },
  {
   "cell_type": "code",
   "execution_count": 94,
   "metadata": {},
   "outputs": [],
   "source": [
    "criterion = nn.MSELoss()\n",
    "optimizer = torch.optim.Adam(model.parameters(), lr=learning_rate)"
   ]
  },
  {
   "cell_type": "code",
   "execution_count": 95,
   "metadata": {},
   "outputs": [
    {
     "name": "stdout",
     "output_type": "stream",
     "text": [
      "epoch: 0  loss: 0.822448\n",
      "epoch: 10  loss: 0.132650\n",
      "epoch: 20  loss: 0.094244\n",
      "epoch: 30  loss: 0.083683\n",
      "epoch: 40  loss: 0.071141\n",
      "epoch: 50  loss: 0.065745\n",
      "epoch: 60  loss: 0.061384\n",
      "epoch: 70  loss: 0.057481\n",
      "epoch: 80  loss: 0.053888\n",
      "epoch: 90  loss: 0.051383\n",
      "epoch: 100  loss: 0.050759\n",
      "epoch: 110  loss: 0.046836\n",
      "epoch: 120  loss: 0.047297\n",
      "epoch: 130  loss: 0.045098\n",
      "epoch: 140  loss: 0.042410\n",
      "epoch: 150  loss: 0.043727\n",
      "epoch: 160  loss: 0.041620\n",
      "epoch: 170  loss: 0.040528\n",
      "epoch: 180  loss: 0.039651\n",
      "epoch: 190  loss: 0.038663\n"
     ]
    }
   ],
   "source": [
    "model.train()\n",
    "epochs = 200\n",
    "for e in range(epochs):\n",
    "    running_loss = 0\n",
    "    for fps, lp in train_loader:\n",
    "        optimizer.zero_grad()\n",
    "        pred = model(fps)\n",
    "        loss = criterion(pred, lp)\n",
    "        loss.backward()\n",
    "        optimizer.step()\n",
    "        running_loss += loss.item()\n",
    "    if e % 10 == 0:\n",
    "        print('epoch: %d  loss: %f' % (e, running_loss/len(train_loader)))"
   ]
  },
  {
   "cell_type": "code",
   "execution_count": 99,
   "metadata": {},
   "outputs": [],
   "source": [
    "def flatten(tensor):\n",
    "    return tensor.cpu().detach().numpy().flatten()"
   ]
  },
  {
   "cell_type": "code",
   "execution_count": 101,
   "metadata": {},
   "outputs": [
    {
     "data": {
      "text/plain": [
       "Net(\n",
       "  (fc1): Linear(in_features=1024, out_features=1024, bias=True)\n",
       "  (fc2): Linear(in_features=1024, out_features=1024, bias=True)\n",
       "  (fc3): Linear(in_features=1024, out_features=1024, bias=True)\n",
       "  (fc_out): Linear(in_features=1024, out_features=1, bias=True)\n",
       "  (ln1): LayerNorm((1024,), eps=1e-05, elementwise_affine=True)\n",
       "  (ln2): LayerNorm((1024,), eps=1e-05, elementwise_affine=True)\n",
       "  (ln3): LayerNorm((1024,), eps=1e-05, elementwise_affine=True)\n",
       "  (activation): LeakyReLU(negative_slope=0.01)\n",
       "  (dropout): Dropout(p=0.8, inplace=False)\n",
       ")"
      ]
     },
     "execution_count": 101,
     "metadata": {},
     "output_type": "execute_result"
    }
   ],
   "source": [
    "model.eval()"
   ]
  },
  {
   "cell_type": "code",
   "execution_count": 102,
   "metadata": {},
   "outputs": [],
   "source": [
    "y_pred_train = model(X_train_torch)\n",
    "y_pred_test = model(X_test_torch)"
   ]
  },
  {
   "cell_type": "code",
   "execution_count": 123,
   "metadata": {},
   "outputs": [
    {
     "data": {
      "text/plain": [
       "[<matplotlib.lines.Line2D at 0x120d9b040>]"
      ]
     },
     "execution_count": 123,
     "metadata": {},
     "output_type": "execute_result"
    },
    {
     "data": {
      "image/png": "[encoded data removed]",
      "text/plain": [
       "<Figure size 432x288 with 1 Axes>"
      ]
     },
     "metadata": {
      "needs_background": "light"
     },
     "output_type": "display_data"
    }
   ],
   "source": [
    "pyplot.scatter(flatten(y_pred_test), flatten(y_test_torch), alpha=0.5, s=8, label=\"Test\")\n",
    "pyplot.scatter(flatten(y_pred_train), flatten(y_train_torch), alpha=0.3, s=8, label=\"Train\")\n",
    "pyplot.legend()\n",
    "pyplot.plot([-6, 6],[-6, 6],c=\"b\")"
   ]
  },
  {
   "cell_type": "code",
   "execution_count": 104,
   "metadata": {},
   "outputs": [],
   "source": [
    "with open('qsar.p', mode='wb') as file:\n",
    "    pickle.dump(model, file)"
   ]
  },
  {
   "cell_type": "code",
   "execution_count": 105,
   "metadata": {},
   "outputs": [],
   "source": [
    "db = FingerprintDatabase(fp_type=Fingerprint, name=\"logp\")\n",
    "db.add_fingerprints(logP.fingerprint)\n",
    "db_fold = db.fold(1024)"
   ]
  },
  {
   "cell_type": "code",
   "execution_count": 113,
   "metadata": {},
   "outputs": [],
   "source": [
    "X_tensor = torch.tensor(db_fold.array.toarray()).float()\n",
    "logP['qsar_logp'] = scaler.inverse_transform(model(X_tensor).cpu().detach().numpy())"
   ]
  },
  {
   "cell_type": "code",
   "execution_count": 122,
   "metadata": {},
   "outputs": [
    {
     "data": {
      "image/png": "[encoded data removed]",
      "text/plain": [
       "<Figure size 432x288 with 1 Axes>"
      ]
     },
     "metadata": {
      "needs_background": "light"
     },
     "output_type": "display_data"
    }
   ],
   "source": [
    "r2 = r2_score(logP['logp'], logP['rdkit_logp'])\n",
    "pyplot.scatter(logP['logp'], logP['rdkit_logp'], alpha=0.2, s=8, label='rdkit R²: %f' % r2)\n",
    "\n",
    "r2 = r2_score(logP['logp'], logP['qsar_logp'])\n",
    "pyplot.scatter(logP['logp'], logP['qsar_logp'], alpha=0.2, s=8, label='predicted R²: %f' % r2)\n",
    "pyplot.title('Model fit: RDkit vs QSAR')\n",
    "pyplot.legend()\n",
    "plt.plot([-6, 6], [-6, 6], c=\"b\")\n",
    "pyplot.show()"
   ]
  },
  {
   "cell_type": "markdown",
   "metadata": {},
   "source": [
    "Conclusion: The model performs very well."
   ]
  }
 ],
 "metadata": {
  "kernelspec": {
   "display_name": "Python 3 (ipykernel)",
   "language": "python",
   "name": "python3"
  },
  "language_info": {
   "codemirror_mode": {
    "name": "ipython",
    "version": 3
   },
   "file_extension": ".py",
   "mimetype": "text/x-python",
   "name": "python",
   "nbconvert_exporter": "python",
   "pygments_lexer": "ipython3",
   "version": "3.9.10"
  }
 },
 "nbformat": 4,
 "nbformat_minor": 4
}
