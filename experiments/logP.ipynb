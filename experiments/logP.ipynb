{
 "cells": [
  {
   "cell_type": "markdown",
   "id": "a8d46710",
   "metadata": {},
   "source": [
    "# Prediction of logP values from chemical structures\n",
    "\n",
    "logP is the log of the partition coefficient, which describes the proportion of a chemical which will be found in a hydrophobic phase (1-octonol) vs a hydrophillic phase (water). The measure is very useful in the prediction of where a chemical will go in a biological or environmental system. For example, in animals, blood carries hydrophillic materials throughout the body, but without other transport mechanisms, the chemical must also be able to pass through the hydrophobic phospholipid membrane to enter cells.\n",
    "https://en.wikipedia.org/wiki/Partition_coefficient#Partition_coefficient_and_log_P\n",
    "\n",
    "This image shows a selection of chemicals comparing experimental partition between brain/blood and octonol/water showing a relatively high correlation for chemicals without an explicit transporter or efflux mechanism.\n",
    "\n",
    "log P (octanol/water) at the X-axis vers. log Pc (permeability coefficient of rat brain capillaries in cm per second) for various drugs, solvents and other compounds. Data taken from N. Bodor and P. Buchwald: Recent advances in the brain targeting of neuropharmaceuticals by chemical delivery systems. In: Adv Drug Deliv Rev 36, 1999, pp. 229-254.\n",
    "\n",
    "## Goal\n",
    "\n",
    "The goal of this project is to create a system that can take an arbitrary chemical as input and predict a probable logP value from it. This will allow us to make some predications about the properties of this chemical, its suitability for use as a drug and possible environmental fate.\n",
    "Methods for estimating logP from chemical structures do exist and will be used for reference to see if the machine learning methods explored will improve on the predictions."
   ]
  },
  {
   "cell_type": "markdown",
   "id": "24eb3a69",
   "metadata": {},
   "source": [
    "# Data"
   ]
  },
  {
   "cell_type": "markdown",
   "id": "0dcb6a18",
   "metadata": {},
   "source": []
  },
  {
   "cell_type": "code",
   "execution_count": 1,
   "id": "743d050e",
   "metadata": {},
   "outputs": [],
   "source": [
    "import matplotlib.pyplot as pyplot\n",
    "import numpy as np\n",
    "import pandas as pd"
   ]
  },
  {
   "cell_type": "markdown",
   "id": "2d347934",
   "metadata": {},
   "source": [
    "Data collected from https://www.kaggle.com/matthewmasters/chemical-structure-and-logp \n",
    "This two column dataset contains only stereoscopic SMILES (https://en.wikipedia.org/wiki/Simplified_molecular-input_line-entry_system) encoded chemical structures and experimental logP values."
   ]
  },
  {
   "cell_type": "code",
   "execution_count": 2,
   "id": "e25e7c7e",
   "metadata": {},
   "outputs": [
    {
     "data": {
      "text/html": [
       "<div>\n",
       "<style scoped>\n",
       "    .dataframe tbody tr th:only-of-type {\n",
       "        vertical-align: middle;\n",
       "    }\n",
       "\n",
       "    .dataframe tbody tr th {\n",
       "        vertical-align: top;\n",
       "    }\n",
       "\n",
       "    .dataframe thead th {\n",
       "        text-align: right;\n",
       "    }\n",
       "</style>\n",
       "<table border=\"1\" class=\"dataframe\">\n",
       "  <thead>\n",
       "    <tr style=\"text-align: right;\">\n",
       "      <th></th>\n",
       "      <th>smiles</th>\n",
       "      <th>logp</th>\n",
       "    </tr>\n",
       "  </thead>\n",
       "  <tbody>\n",
       "    <tr>\n",
       "      <th>0</th>\n",
       "      <td>C[C@H]([C@@H](C)Cl)Cl</td>\n",
       "      <td>2.3</td>\n",
       "    </tr>\n",
       "    <tr>\n",
       "      <th>1</th>\n",
       "      <td>C(C=CBr)N</td>\n",
       "      <td>0.3</td>\n",
       "    </tr>\n",
       "    <tr>\n",
       "      <th>2</th>\n",
       "      <td>CCC(CO)Br</td>\n",
       "      <td>1.3</td>\n",
       "    </tr>\n",
       "    <tr>\n",
       "      <th>3</th>\n",
       "      <td>[13CH3][13CH2][13CH2][13CH2][13CH2][13CH2]O</td>\n",
       "      <td>2.0</td>\n",
       "    </tr>\n",
       "    <tr>\n",
       "      <th>4</th>\n",
       "      <td>CCCOCCP</td>\n",
       "      <td>0.6</td>\n",
       "    </tr>\n",
       "  </tbody>\n",
       "</table>\n",
       "</div>"
      ],
      "text/plain": [
       "                                        smiles  logp\n",
       "0                        C[C@H]([C@@H](C)Cl)Cl   2.3\n",
       "1                                    C(C=CBr)N   0.3\n",
       "2                                    CCC(CO)Br   1.3\n",
       "3  [13CH3][13CH2][13CH2][13CH2][13CH2][13CH2]O   2.0\n",
       "4                                      CCCOCCP   0.6"
      ]
     },
     "execution_count": 2,
     "metadata": {},
     "output_type": "execute_result"
    }
   ],
   "source": [
    "logP = pd.read_csv('/data/logP_dataset.csv')\n",
    "logP.head()"
   ]
  },
  {
   "cell_type": "markdown",
   "id": "5d8ecb78",
   "metadata": {},
   "source": [
    "create 3d chemical structures from the SMILES strings. Functional code was abstracted out into a separate file for reusability."
   ]
  },
  {
   "cell_type": "code",
   "execution_count": null,
   "id": "3f9354f1",
   "metadata": {},
   "outputs": [],
   "source": [
    "from rdkit.Chem import AllChem as Chem\n",
    "from rdkit.Chem import Descriptors\n",
    "\n",
    "def chem_3d(mol):\n",
    "    try:\n",
    "        mol.UpdatePropertyCache()\n",
    "        mol = Chem.AddHs(mol)\n",
    "        # seed is necessary to ensure that 3d coordinates are the same for testing\n",
    "        Chem.EmbedMolecule(mol, randomSeed=0xf00d)\n",
    "        return mol\n",
    "    except Exception as e:\n",
    "        print(e)\n",
    "        pass\n",
    "    return None\n",
    "\n",
    "logP['molecule'] = logP['smiles'].apply(lambda smiles: chem_3d(Chem.MolFromSmiles(smiles)))"
   ]
  },
  {
   "cell_type": "code",
   "execution_count": 4,
   "id": "4fff1f2d",
   "metadata": {},
   "outputs": [
    {
     "data": {
      "text/html": [
       "<div>\n",
       "<style scoped>\n",
       "    .dataframe tbody tr th:only-of-type {\n",
       "        vertical-align: middle;\n",
       "    }\n",
       "\n",
       "    .dataframe tbody tr th {\n",
       "        vertical-align: top;\n",
       "    }\n",
       "\n",
       "    .dataframe thead th {\n",
       "        text-align: right;\n",
       "    }\n",
       "</style>\n",
       "<table border=\"1\" class=\"dataframe\">\n",
       "  <thead>\n",
       "    <tr style=\"text-align: right;\">\n",
       "      <th></th>\n",
       "      <th>smiles</th>\n",
       "      <th>logp</th>\n",
       "      <th>molecule</th>\n",
       "    </tr>\n",
       "  </thead>\n",
       "  <tbody>\n",
       "    <tr>\n",
       "      <th>0</th>\n",
       "      <td>C[C@H]([C@@H](C)Cl)Cl</td>\n",
       "      <td>2.3</td>\n",
       "      <td>&lt;rdkit.Chem.rdchem.Mol object at 0x7f9a1d93c520&gt;</td>\n",
       "    </tr>\n",
       "    <tr>\n",
       "      <th>1</th>\n",
       "      <td>C(C=CBr)N</td>\n",
       "      <td>0.3</td>\n",
       "      <td>&lt;rdkit.Chem.rdchem.Mol object at 0x7f9a1d1cb700&gt;</td>\n",
       "    </tr>\n",
       "    <tr>\n",
       "      <th>2</th>\n",
       "      <td>CCC(CO)Br</td>\n",
       "      <td>1.3</td>\n",
       "      <td>&lt;rdkit.Chem.rdchem.Mol object at 0x7f9a1d1cb760&gt;</td>\n",
       "    </tr>\n",
       "    <tr>\n",
       "      <th>3</th>\n",
       "      <td>[13CH3][13CH2][13CH2][13CH2][13CH2][13CH2]O</td>\n",
       "      <td>2.0</td>\n",
       "      <td>&lt;rdkit.Chem.rdchem.Mol object at 0x7f9a1d1cb7c0&gt;</td>\n",
       "    </tr>\n",
       "    <tr>\n",
       "      <th>4</th>\n",
       "      <td>CCCOCCP</td>\n",
       "      <td>0.6</td>\n",
       "      <td>&lt;rdkit.Chem.rdchem.Mol object at 0x7f9a1d1cb820&gt;</td>\n",
       "    </tr>\n",
       "  </tbody>\n",
       "</table>\n",
       "</div>"
      ],
      "text/plain": [
       "                                        smiles  logp  \\\n",
       "0                        C[C@H]([C@@H](C)Cl)Cl   2.3   \n",
       "1                                    C(C=CBr)N   0.3   \n",
       "2                                    CCC(CO)Br   1.3   \n",
       "3  [13CH3][13CH2][13CH2][13CH2][13CH2][13CH2]O   2.0   \n",
       "4                                      CCCOCCP   0.6   \n",
       "\n",
       "                                           molecule  \n",
       "0  <rdkit.Chem.rdchem.Mol object at 0x7f9a1d93c520>  \n",
       "1  <rdkit.Chem.rdchem.Mol object at 0x7f9a1d1cb700>  \n",
       "2  <rdkit.Chem.rdchem.Mol object at 0x7f9a1d1cb760>  \n",
       "3  <rdkit.Chem.rdchem.Mol object at 0x7f9a1d1cb7c0>  \n",
       "4  <rdkit.Chem.rdchem.Mol object at 0x7f9a1d1cb820>  "
      ]
     },
     "execution_count": 4,
     "metadata": {},
     "output_type": "execute_result"
    }
   ],
   "source": [
    "logP.head()"
   ]
  },
  {
   "cell_type": "markdown",
   "id": "f21190c6",
   "metadata": {},
   "source": [
    "After conversion, check to ensure that there is usable data for all records in the data set"
   ]
  },
  {
   "cell_type": "code",
   "execution_count": 5,
   "id": "90125da0",
   "metadata": {},
   "outputs": [
    {
     "data": {
      "text/plain": [
       "smiles      0\n",
       "logp        0\n",
       "molecule    0\n",
       "dtype: int64"
      ]
     },
     "execution_count": 5,
     "metadata": {},
     "output_type": "execute_result"
    }
   ],
   "source": [
    "logP.isna().sum()"
   ]
  },
  {
   "cell_type": "markdown",
   "id": "67d3c6d1",
   "metadata": {},
   "source": [
    "There are no missing data points. If there had been, rows would have been dropped. Acurate logP values could not be engineered or filled in."
   ]
  },
  {
   "cell_type": "markdown",
   "id": "3a4de064",
   "metadata": {},
   "source": [
    "generate 3d descriptor fingerprints"
   ]
  },
  {
   "cell_type": "code",
   "execution_count": 6,
   "id": "1864c9e1",
   "metadata": {},
   "outputs": [],
   "source": [
    "from e3fp.fingerprint.fprint import Fingerprint\n",
    "\n",
    "logP['fingerprint'] = logP['molecule'].apply(lambda mol: Fingerprint.from_rdkit(Chem.GetMorganFingerprintAsBitVect(mol, 2)))"
   ]
  },
  {
   "cell_type": "markdown",
   "id": "875ed136",
   "metadata": {},
   "source": [
    "Chemical fingerprints are very low density structures, making them very difficult to train models on. To increase the density (at only minimal loss of data), the fingerprints are folded into 1024 bits."
   ]
  },
  {
   "cell_type": "code",
   "execution_count": 8,
   "id": "d52dd051",
   "metadata": {},
   "outputs": [
    {
     "name": "stdout",
     "output_type": "stream",
     "text": [
      "0.014987995165982204\n"
     ]
    }
   ],
   "source": [
    "# from e3fp.fingerprint.db import FingerprintDatabase\n",
    "\n",
    "# db = FingerprintDatabase(fp_type=Fingerprint, name=\"logP\")\n",
    "# db.add_fingerprints(logP['fingerprint'])\n",
    "# folded = db.fold(1024)\n",
    "# print(folded.get_density())"
   ]
  },
  {
   "cell_type": "markdown",
   "id": "e64907f3",
   "metadata": {},
   "source": [
    "Display the fit of the rdkit generated logP value vs the experimental data from the dataset. Rdkit uses the Wildman-Crippen method.\n",
    "\n",
    "Prediction of Physicochemical Parameters by Atomic Contributions\n",
    "Scott A. Wildman and Gordon M. Crippen\n",
    "Journal of Chemical Information and Computer Sciences 1999 39 (5), 868-873\n",
    "DOI: 10.1021/ci990307l"
   ]
  },
  {
   "cell_type": "code",
   "execution_count": 7,
   "id": "a892d7ae",
   "metadata": {
    "scrolled": true
   },
   "outputs": [],
   "source": [
    "logP['rdkit_logp'] = logP['molecule'].apply(Descriptors.MolLogP)"
   ]
  },
  {
   "cell_type": "code",
   "execution_count": 13,
   "id": "936c459d",
   "metadata": {},
   "outputs": [
    {
     "data": {
      "image/png": "[encoded data removed]",
      "text/plain": [
       "<Figure size 432x288 with 1 Axes>"
      ]
     },
     "metadata": {
      "needs_background": "light"
     },
     "output_type": "display_data"
    }
   ],
   "source": [
    "from sklearn.metrics import r2_score\n",
    "\n",
    "r2 = r2_score(logP['logp'], logP['rdkit_logp'])\n",
    "pyplot.scatter(logP['logp'], logP['rdkit_logp'], label='R²: %f' % r2)\n",
    "pyplot.legend()\n",
    "pyplot.show()"
   ]
  },
  {
   "cell_type": "code",
   "execution_count": 8,
   "id": "9a7b06d2",
   "metadata": {},
   "outputs": [],
   "source": [
    "from e3fp.fingerprint.metrics.array_metrics import tanimoto\n",
    "\n",
    "from sklearn.svm import SVR\n",
    "from sklearn.svm import LinearSVR\n",
    "from sklearn.linear_model import SGDRegressor\n",
    "from sklearn.linear_model import Ridge\n",
    "from sklearn.linear_model import ElasticNet\n",
    "from sklearn.ensemble import RandomForestRegressor\n",
    "from sklearn import model_selection\n",
    "from sklearn.utils import class_weight\n",
    "from sklearn.utils import resample\n",
    "from sklearn.metrics import classification_report\n",
    "from sklearn.metrics import confusion_matrix\n",
    "from sklearn.metrics import accuracy_score\n",
    "from sklearn.model_selection import train_test_split"
   ]
  },
  {
   "cell_type": "code",
   "execution_count": 12,
   "id": "fbf8c225",
   "metadata": {},
   "outputs": [],
   "source": [
    "import pickle\n",
    "\n",
    "with open('logp.p', mode='wb') as file:\n",
    "    pickle.dump(logP, file)"
   ]
  },
  {
   "cell_type": "code",
   "execution_count": null,
   "id": "c1406816",
   "metadata": {},
   "outputs": [],
   "source": []
  },
  {
   "cell_type": "code",
   "execution_count": 28,
   "id": "7a6bbe43",
   "metadata": {},
   "outputs": [],
   "source": [
    "models = [\n",
    "    ('SVR', SVR(kernel=tanimoto)),\n",
    "    ('Linear SVR', LinearSVR()), \n",
    "    ('SGD', SGDRegressor()), \n",
    "    ('Ridge', Ridge()),\n",
    "    ('ElasticNet', ElasticNet()),\n",
    "    ('Random Forest', RandomForestRegressor(n_estimators=100, random_state=42))\n",
    "]\n",
    "X_sample, y_sample = resample(logP['fingerprint'], logP['logp'], n_samples=1000, random_state=42)\n",
    "\n",
    "sample_db = FingerprintDatabase(fp_type=Fingerprint, name=\"sample\")\n",
    "sample_db.add_fingerprints(X_sample.values)\n",
    "folded_sample_db = sample_db.fold(1024)\n",
    "\n",
    "scoring = ['neg_mean_absolute_error', 'neg_mean_squared_error', 'r2']\n",
    "\n",
    "results = []\n",
    "\n",
    "for name, model in models:\n",
    "    kfold = model_selection.KFold(n_splits=5, shuffle=True, random_state=42)\n",
    "    results.append(model_selection.cross_validate(model, sample_db.array, y_sample, cv=kfold, scoring=scoring))\n",
    "\n",
    "model_results = pd.DataFrame(results)\n"
   ]
  },
  {
   "cell_type": "code",
   "execution_count": 31,
   "id": "de9ec2a3",
   "metadata": {},
   "outputs": [
    {
     "name": "stdout",
     "output_type": "stream",
     "text": [
      "                                            fit_time  \\\n",
      "0  [0.19271540641784668, 0.13004469871520996, 0.1...   \n",
      "1  [0.037000417709350586, 0.02837347984313965, 0....   \n",
      "2  [0.05355215072631836, 0.041092872619628906, 0....   \n",
      "3  [0.06617259979248047, 0.044951677322387695, 0....   \n",
      "4  [0.017099857330322266, 0.010185956954956055, 0...   \n",
      "\n",
      "                                          score_time  \\\n",
      "0  [0.06370806694030762, 0.029167890548706055, 0....   \n",
      "1  [0.0043218135833740234, 0.0034024715423583984,...   \n",
      "2  [0.004122734069824219, 0.003570079803466797, 0...   \n",
      "3  [0.0032253265380859375, 0.003575563430786133, ...   \n",
      "4  [0.0029108524322509766, 0.0038912296295166016,...   \n",
      "\n",
      "                        test_neg_mean_absolute_error  \\\n",
      "0  [-1.0016700502489335, -0.9698062624963424, -0....   \n",
      "1  [-1.2823259705478012, -1.2588771207305591, -1....   \n",
      "2  [-1.1761624881889525, -1.1385079573537862, -1....   \n",
      "3  [-1.1715684742082877, -1.1774735538098762, -1....   \n",
      "4  [-1.07, -1.0517937499999999, -1.0699, -0.96762...   \n",
      "\n",
      "                         test_neg_mean_squared_error  \\\n",
      "0  [-1.7862452139544718, -1.560444244599493, -1.5...   \n",
      "1  [-2.8321483681880966, -2.6373215350030392, -2....   \n",
      "2  [-2.374694314854359, -2.065172594370195, -1.92...   \n",
      "3  [-2.387474283049814, -2.228018765936996, -2.04...   \n",
      "4  [-1.9660000000000002, -1.7479816406250002, -1....   \n",
      "\n",
      "                                             test_r2  \n",
      "0  [0.0910821042150769, 0.09148407225332622, 0.15...  \n",
      "1  [-0.44111811483338714, -0.5354913380801649, -0...  \n",
      "2  [-0.20834594429029907, -0.20237695260480315, -...  \n",
      "3  [-0.21484893822957774, -0.29718863277411245, -...  \n",
      "4  [-0.00038481231653841874, -0.01770323894153103...  \n"
     ]
    },
    {
     "data": {
      "image/png": "[encoded data removed]",
      "text/plain": [
       "<Figure size 432x288 with 1 Axes>"
      ]
     },
     "metadata": {
      "needs_background": "light"
     },
     "output_type": "display_data"
    },
    {
     "data": {
      "image/png": "[encoded data removed]",
      "text/plain": [
       "<Figure size 432x288 with 1 Axes>"
      ]
     },
     "metadata": {
      "needs_background": "light"
     },
     "output_type": "display_data"
    }
   ],
   "source": [
    "import seaborn as sns\n",
    "labels = labels=list(map(lambda m: m[0], models))\n",
    "print(model_results.head(5))\n",
    "\n",
    "# print('Fit time')\n",
    "# pyplot.boxplot(model_results['fit_time'], labels=labels)\n",
    "# pyplot.show()\n",
    "\n",
    "# print('Score time')\n",
    "# pyplot.boxplot(model_results['score_time'], labels=labels)\n",
    "# pyplot.show()\n",
    "\n",
    "# print('Explained Variance')\n",
    "# pyplot.boxplot(model_results['test_explained_variance'], labels=labels)\n",
    "# pyplot.show()\n",
    "\n",
    "# print('Max Error')\n",
    "# pyplot.boxplot(model_results['test_max_error'], labels=labels)\n",
    "# pyplot.show()\n",
    "\n",
    "pyplot.boxplot(model_results['test_neg_mean_absolute_error'], labels=labels)\n",
    "pyplot.title('Mean Absolute Error')\n",
    "pyplot.show()\n",
    "\n",
    "pyplot.boxplot(model_results['test_r2'], labels=labels)\n",
    "pyplot.title('R²')\n",
    "pyplot.show()\n",
    "                     \n",
    "# sns.barplot(data=model_results)"
   ]
  },
  {
   "cell_type": "code",
   "execution_count": null,
   "id": "57eeae4e",
   "metadata": {},
   "outputs": [],
   "source": [
    "# model = LinearSVR(max_iter=1000, dual=True)\n",
    "X_train, X_test, y_train, y_test = train_test_split(logP['fingerprint'], logP['logp'], test_size=0.2, random_state=42)\n",
    "\n",
    "X_train_db = FingerprintDatabase(fp_type=Fingerprint, name=\"sample\")\n",
    "X_train_db.add_fingerprints(X_train.values)\n",
    "\n",
    "# clf = model.fit(X_train_db.array, y_train)\n",
    "clf = models[0][1].fit(X_train_db.array, y_train)\n",
    "# clf = models[5][1].fit(X_train_db.array, y_train)"
   ]
  },
  {
   "cell_type": "code",
   "execution_count": null,
   "id": "da7434f7",
   "metadata": {},
   "outputs": [],
   "source": [
    "# accuracy_test(clf)"
   ]
  },
  {
   "cell_type": "code",
   "execution_count": 43,
   "id": "d6b94fc7",
   "metadata": {},
   "outputs": [],
   "source": [
    "import pickle\n",
    "\n",
    "with open('model.p', mode='wb') as file:\n",
    "    pickle.dump(clf, file)"
   ]
  },
  {
   "cell_type": "code",
   "execution_count": 19,
   "id": "d0cd3698",
   "metadata": {},
   "outputs": [
    {
     "data": {
      "text/plain": [
       "0.8583364435458203"
      ]
     },
     "execution_count": 19,
     "metadata": {},
     "output_type": "execute_result"
    }
   ],
   "source": [
    "X_test_db = FingerprintDatabase(fp_type=Fingerprint, name=\"test\")\n",
    "X_test_db.add_fingerprints(X_test.values)\n",
    "model.score(X_test_db.array, y_test)"
   ]
  },
  {
   "cell_type": "code",
   "execution_count": 36,
   "id": "eb885d17",
   "metadata": {},
   "outputs": [
    {
     "data": {
      "text/plain": [
       " 0.8    104\n",
       " 1.2     99\n",
       " 1.6     95\n",
       " 1.4     93\n",
       " 0.9     91\n",
       "       ... \n",
       " 4.2      2\n",
       "-3.2      1\n",
       "-3.4      1\n",
       "-3.0      1\n",
       "-2.9      1\n",
       "Name: logp, Length: 77, dtype: int64"
      ]
     },
     "execution_count": 36,
     "metadata": {},
     "output_type": "execute_result"
    }
   ],
   "source": [
    "y_test.value_counts()"
   ]
  },
  {
   "cell_type": "code",
   "execution_count": 49,
   "id": "0170ecf3",
   "metadata": {},
   "outputs": [
    {
     "data": {
      "text/plain": [
       "<AxesSubplot:>"
      ]
     },
     "execution_count": 49,
     "metadata": {},
     "output_type": "execute_result"
    },
    {
     "data": {
      "image/png": "[encoded data removed]",
      "text/plain": [
       "<Figure size 432x288 with 1 Axes>"
      ]
     },
     "metadata": {
      "needs_background": "light"
     },
     "output_type": "display_data"
    }
   ],
   "source": [
    "y_test.value_counts().plot()"
   ]
  },
  {
   "cell_type": "code",
   "execution_count": 27,
   "id": "d2bd7ce3",
   "metadata": {},
   "outputs": [],
   "source": [
    "logP['model_logp'] = model.predict(db.array)"
   ]
  },
  {
   "cell_type": "code",
   "execution_count": 43,
   "id": "685ad28a",
   "metadata": {},
   "outputs": [
    {
     "data": {
      "text/plain": [
       "0.8    0.035592\n",
       "Name: logp, dtype: float64"
      ]
     },
     "execution_count": 43,
     "metadata": {},
     "output_type": "execute_result"
    }
   ],
   "source": [
    "y_test.value_counts().head(1)/len(y_test)"
   ]
  },
  {
   "cell_type": "markdown",
   "id": "4358ffc6",
   "metadata": {},
   "source": [
    "Null predictor"
   ]
  },
  {
   "cell_type": "code",
   "execution_count": 52,
   "id": "b2213f85",
   "metadata": {},
   "outputs": [
    {
     "data": {
      "text/plain": [
       "-0.02333792302495974"
      ]
     },
     "execution_count": 52,
     "metadata": {},
     "output_type": "execute_result"
    }
   ],
   "source": [
    "r2_score(logP['logp'], [0.8 for i in range(len(logP))])"
   ]
  },
  {
   "cell_type": "code",
   "execution_count": null,
   "id": "1e0d2cb7",
   "metadata": {},
   "outputs": [],
   "source": []
  },
  {
   "cell_type": "code",
   "execution_count": 57,
   "id": "b47616f7",
   "metadata": {},
   "outputs": [
    {
     "data": {
      "image/png": "[encoded data removed]",
      "text/plain": [
       "<Figure size 432x288 with 1 Axes>"
      ]
     },
     "metadata": {
      "needs_background": "light"
     },
     "output_type": "display_data"
    }
   ],
   "source": [
    "r2 = r2_score(logP['logp'], logP['model_logp'])\n",
    "pyplot.scatter(logP['logp'], logP['model_logp'], label='R²: %f' % r2, s=5)\n",
    "pyplot.legend()\n",
    "pyplot.show()"
   ]
  },
  {
   "cell_type": "code",
   "execution_count": null,
   "id": "83d64af2",
   "metadata": {},
   "outputs": [],
   "source": []
  },
  {
   "cell_type": "code",
   "execution_count": null,
   "id": "a0528d27",
   "metadata": {},
   "outputs": [],
   "source": []
  },
  {
   "cell_type": "markdown",
   "id": "bfcbecf3",
   "metadata": {},
   "source": [
    "References:\n",
    "\n",
    "N. Bodor and P. Buchwald: Recent advances in the brain targeting of neuropharmaceuticals by chemical delivery systems. In: Adv Drug Deliv Rev 36, 1999, pp. 229-254.\n",
    "\n",
    "Prediction of Physicochemical Parameters by Atomic Contributions\n",
    "Scott A. Wildman and Gordon M. Crippen\n",
    "Journal of Chemical Information and Computer Sciences 1999 39 (5), 868-873\n",
    "DOI: 10.1021/ci990307l"
   ]
  }
 ],
 "metadata": {
  "celltoolbar": "Raw Cell Format",
  "kernelspec": {
   "display_name": "Python 3 (ipykernel)",
   "language": "python",
   "name": "python3"
  },
  "language_info": {
   "codemirror_mode": {
    "name": "ipython",
    "version": 3
   },
   "file_extension": ".py",
   "mimetype": "text/x-python",
   "name": "python",
   "nbconvert_exporter": "python",
   "pygments_lexer": "ipython3",
   "version": "3.9.10"
  }
 },
 "nbformat": 4,
 "nbformat_minor": 5
}
