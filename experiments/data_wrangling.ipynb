{
 "cells": [
  {
   "cell_type": "markdown",
   "id": "a8d46710",
   "metadata": {},
   "source": [
    "# Prediction of logP values from chemical structures\n",
    "\n",
    "logP is the log of the partition coefficient, which describes the proportion of a chemical which will be found in a hydrophobic phase (1-octonol) vs a hydrophillic phase (water). The measure is very useful in the prediction of where a chemical will go in a biological or environmental system. For example, in animals, blood carries hydrophillic materials throughout the body, but without other transport mechanisms, the chemical must also be able to pass through the hydrophobic phospholipid membrane to enter cells.\n",
    "https://en.wikipedia.org/wiki/Partition_coefficient#Partition_coefficient_and_log_P\n",
    "\n",
    "This image shows a selection of chemicals comparing experimental partition between brain/blood and octonol/water showing a relatively high correlation for chemicals without an explicit transporter or efflux mechanism.\n",
    "\n",
    "log P (octanol/water) at the X-axis vers. log Pc (permeability coefficient of rat brain capillaries in cm per second) for various drugs, solvents and other compounds. Data taken from N. Bodor and P. Buchwald: Recent advances in the brain targeting of neuropharmaceuticals by chemical delivery systems. In: Adv Drug Deliv Rev 36, 1999, pp. 229-254.\n",
    "\n",
    "## Goal\n",
    "\n",
    "The goal of this project is to create a system that can take an arbitrary chemical as input and predict a probable logP value from it. This will allow us to make some predications about the properties of this chemical, its suitability for use as a drug and possible environmental fate.\n",
    "Methods for estimating logP from chemical structures do exist and will be used for reference to see if the machine learning methods explored will improve on the predictions."
   ]
  },
  {
   "cell_type": "markdown",
   "id": "24eb3a69",
   "metadata": {},
   "source": [
    "# Data"
   ]
  },
  {
   "cell_type": "markdown",
   "id": "0dcb6a18",
   "metadata": {},
   "source": []
  },
  {
   "cell_type": "code",
   "execution_count": 1,
   "id": "743d050e",
   "metadata": {},
   "outputs": [],
   "source": [
    "import matplotlib.pyplot as pyplot\n",
    "import numpy as np\n",
    "import pandas as pd"
   ]
  },
  {
   "cell_type": "markdown",
   "id": "2d347934",
   "metadata": {},
   "source": [
    "Data collected from https://www.kaggle.com/matthewmasters/chemical-structure-and-logp \n",
    "This two column dataset contains only stereoscopic SMILES (https://en.wikipedia.org/wiki/Simplified_molecular-input_line-entry_system) encoded chemical structures and experimental logP values."
   ]
  },
  {
   "cell_type": "code",
   "execution_count": 2,
   "id": "e25e7c7e",
   "metadata": {},
   "outputs": [
    {
     "data": {
      "text/html": [
       "<div>\n",
       "<style scoped>\n",
       "    .dataframe tbody tr th:only-of-type {\n",
       "        vertical-align: middle;\n",
       "    }\n",
       "\n",
       "    .dataframe tbody tr th {\n",
       "        vertical-align: top;\n",
       "    }\n",
       "\n",
       "    .dataframe thead th {\n",
       "        text-align: right;\n",
       "    }\n",
       "</style>\n",
       "<table border=\"1\" class=\"dataframe\">\n",
       "  <thead>\n",
       "    <tr style=\"text-align: right;\">\n",
       "      <th></th>\n",
       "      <th>smiles</th>\n",
       "      <th>logp</th>\n",
       "    </tr>\n",
       "  </thead>\n",
       "  <tbody>\n",
       "    <tr>\n",
       "      <th>0</th>\n",
       "      <td>C[C@H]([C@@H](C)Cl)Cl</td>\n",
       "      <td>2.3</td>\n",
       "    </tr>\n",
       "    <tr>\n",
       "      <th>1</th>\n",
       "      <td>C(C=CBr)N</td>\n",
       "      <td>0.3</td>\n",
       "    </tr>\n",
       "    <tr>\n",
       "      <th>2</th>\n",
       "      <td>CCC(CO)Br</td>\n",
       "      <td>1.3</td>\n",
       "    </tr>\n",
       "    <tr>\n",
       "      <th>3</th>\n",
       "      <td>[13CH3][13CH2][13CH2][13CH2][13CH2][13CH2]O</td>\n",
       "      <td>2.0</td>\n",
       "    </tr>\n",
       "    <tr>\n",
       "      <th>4</th>\n",
       "      <td>CCCOCCP</td>\n",
       "      <td>0.6</td>\n",
       "    </tr>\n",
       "  </tbody>\n",
       "</table>\n",
       "</div>"
      ],
      "text/plain": [
       "                                        smiles  logp\n",
       "0                        C[C@H]([C@@H](C)Cl)Cl   2.3\n",
       "1                                    C(C=CBr)N   0.3\n",
       "2                                    CCC(CO)Br   1.3\n",
       "3  [13CH3][13CH2][13CH2][13CH2][13CH2][13CH2]O   2.0\n",
       "4                                      CCCOCCP   0.6"
      ]
     },
     "execution_count": 2,
     "metadata": {},
     "output_type": "execute_result"
    }
   ],
   "source": [
    "logP = pd.read_csv('/data/logP_dataset.csv')\n",
    "logP.head()"
   ]
  },
  {
   "cell_type": "markdown",
   "id": "5d8ecb78",
   "metadata": {},
   "source": [
    "create 3d chemical structures from the SMILES strings. Functional code was abstracted out into a separate file for reusability."
   ]
  },
  {
   "cell_type": "code",
   "execution_count": null,
   "id": "3f9354f1",
   "metadata": {},
   "outputs": [],
   "source": [
    "from rdkit.Chem import AllChem as Chem\n",
    "from rdkit.Chem import Descriptors\n",
    "\n",
    "def chem_3d(mol):\n",
    "    try:\n",
    "        mol.UpdatePropertyCache()\n",
    "        mol = Chem.AddHs(mol)\n",
    "        # seed is necessary to ensure that 3d coordinates are the same for testing\n",
    "        Chem.EmbedMolecule(mol, randomSeed=0xf00d)\n",
    "        return mol\n",
    "    except Exception as e:\n",
    "        print(e)\n",
    "        pass\n",
    "    return None\n",
    "\n",
    "logP['molecule'] = logP['smiles'].apply(lambda smiles: chem_3d(Chem.MolFromSmiles(smiles)))"
   ]
  },
  {
   "cell_type": "code",
   "execution_count": 4,
   "id": "4fff1f2d",
   "metadata": {},
   "outputs": [
    {
     "data": {
      "text/html": [
       "<div>\n",
       "<style scoped>\n",
       "    .dataframe tbody tr th:only-of-type {\n",
       "        vertical-align: middle;\n",
       "    }\n",
       "\n",
       "    .dataframe tbody tr th {\n",
       "        vertical-align: top;\n",
       "    }\n",
       "\n",
       "    .dataframe thead th {\n",
       "        text-align: right;\n",
       "    }\n",
       "</style>\n",
       "<table border=\"1\" class=\"dataframe\">\n",
       "  <thead>\n",
       "    <tr style=\"text-align: right;\">\n",
       "      <th></th>\n",
       "      <th>smiles</th>\n",
       "      <th>logp</th>\n",
       "      <th>molecule</th>\n",
       "    </tr>\n",
       "  </thead>\n",
       "  <tbody>\n",
       "    <tr>\n",
       "      <th>0</th>\n",
       "      <td>C[C@H]([C@@H](C)Cl)Cl</td>\n",
       "      <td>2.3</td>\n",
       "      <td>&lt;rdkit.Chem.rdchem.Mol object at 0x7f9a1d93c520&gt;</td>\n",
       "    </tr>\n",
       "    <tr>\n",
       "      <th>1</th>\n",
       "      <td>C(C=CBr)N</td>\n",
       "      <td>0.3</td>\n",
       "      <td>&lt;rdkit.Chem.rdchem.Mol object at 0x7f9a1d1cb700&gt;</td>\n",
       "    </tr>\n",
       "    <tr>\n",
       "      <th>2</th>\n",
       "      <td>CCC(CO)Br</td>\n",
       "      <td>1.3</td>\n",
       "      <td>&lt;rdkit.Chem.rdchem.Mol object at 0x7f9a1d1cb760&gt;</td>\n",
       "    </tr>\n",
       "    <tr>\n",
       "      <th>3</th>\n",
       "      <td>[13CH3][13CH2][13CH2][13CH2][13CH2][13CH2]O</td>\n",
       "      <td>2.0</td>\n",
       "      <td>&lt;rdkit.Chem.rdchem.Mol object at 0x7f9a1d1cb7c0&gt;</td>\n",
       "    </tr>\n",
       "    <tr>\n",
       "      <th>4</th>\n",
       "      <td>CCCOCCP</td>\n",
       "      <td>0.6</td>\n",
       "      <td>&lt;rdkit.Chem.rdchem.Mol object at 0x7f9a1d1cb820&gt;</td>\n",
       "    </tr>\n",
       "  </tbody>\n",
       "</table>\n",
       "</div>"
      ],
      "text/plain": [
       "                                        smiles  logp  \\\n",
       "0                        C[C@H]([C@@H](C)Cl)Cl   2.3   \n",
       "1                                    C(C=CBr)N   0.3   \n",
       "2                                    CCC(CO)Br   1.3   \n",
       "3  [13CH3][13CH2][13CH2][13CH2][13CH2][13CH2]O   2.0   \n",
       "4                                      CCCOCCP   0.6   \n",
       "\n",
       "                                           molecule  \n",
       "0  <rdkit.Chem.rdchem.Mol object at 0x7f9a1d93c520>  \n",
       "1  <rdkit.Chem.rdchem.Mol object at 0x7f9a1d1cb700>  \n",
       "2  <rdkit.Chem.rdchem.Mol object at 0x7f9a1d1cb760>  \n",
       "3  <rdkit.Chem.rdchem.Mol object at 0x7f9a1d1cb7c0>  \n",
       "4  <rdkit.Chem.rdchem.Mol object at 0x7f9a1d1cb820>  "
      ]
     },
     "execution_count": 4,
     "metadata": {},
     "output_type": "execute_result"
    }
   ],
   "source": [
    "logP.head()"
   ]
  },
  {
   "cell_type": "markdown",
   "id": "f21190c6",
   "metadata": {},
   "source": [
    "After conversion, check to ensure that there is usable data for all records in the data set"
   ]
  },
  {
   "cell_type": "code",
   "execution_count": 5,
   "id": "90125da0",
   "metadata": {},
   "outputs": [
    {
     "data": {
      "text/plain": [
       "smiles      0\n",
       "logp        0\n",
       "molecule    0\n",
       "dtype: int64"
      ]
     },
     "execution_count": 5,
     "metadata": {},
     "output_type": "execute_result"
    }
   ],
   "source": [
    "logP.isna().sum()"
   ]
  },
  {
   "cell_type": "markdown",
   "id": "67d3c6d1",
   "metadata": {},
   "source": [
    "There are no missing data points. If there had been, rows would have been dropped. Acurate logP values could not be engineered or filled in."
   ]
  },
  {
   "attachments": {
    "nihms909954u1.jpeg": {
     "image/jpeg": "[encoded data removed]"
    }
   },
   "cell_type": "markdown",
   "id": "3a4de064",
   "metadata": {},
   "source": [
    "Generate 3d descriptor fingerprints.\n",
    "\n",
    "These fingerprints should track each heavy atom and fingerprint its 3d connections to others. While the fingerprint will not contain all conformer information, it should give a reasonable representation of the functional structures of each chemical.\n",
    "\n",
    "![nihms909954u1.jpeg](attachment:nihms909954u1.jpeg)"
   ]
  },
  {
   "cell_type": "code",
   "execution_count": 6,
   "id": "1864c9e1",
   "metadata": {},
   "outputs": [],
   "source": [
    "from e3fp.fingerprint.fprint import Fingerprint\n",
    "\n",
    "logP['fingerprint'] = logP['molecule'].apply(lambda mol: Fingerprint.from_rdkit(Chem.GetMorganFingerprintAsBitVect(mol, 2)))"
   ]
  },
  {
   "cell_type": "markdown",
   "id": "e64907f3",
   "metadata": {},
   "source": [
    "Display the fit of the rdkit generated logP value vs the experimental data from the dataset. Rdkit uses the Wildman-Crippen method."
   ]
  },
  {
   "cell_type": "code",
   "execution_count": 7,
   "id": "a892d7ae",
   "metadata": {
    "scrolled": true
   },
   "outputs": [],
   "source": [
    "logP['rdkit_logp'] = logP['molecule'].apply(Descriptors.MolLogP)"
   ]
  },
  {
   "cell_type": "code",
   "execution_count": 8,
   "id": "9a7b06d2",
   "metadata": {},
   "outputs": [],
   "source": [
    "from e3fp.fingerprint.metrics.array_metrics import tanimoto\n",
    "\n",
    "from sklearn.svm import SVR\n",
    "from sklearn.svm import LinearSVR\n",
    "from sklearn.linear_model import SGDRegressor\n",
    "from sklearn.linear_model import Ridge\n",
    "from sklearn.linear_model import ElasticNet\n",
    "from sklearn.ensemble import RandomForestRegressor\n",
    "from sklearn import model_selection\n",
    "from sklearn.utils import class_weight\n",
    "from sklearn.utils import resample\n",
    "from sklearn.metrics import classification_report\n",
    "from sklearn.metrics import confusion_matrix\n",
    "from sklearn.metrics import accuracy_score\n",
    "from sklearn.model_selection import train_test_split"
   ]
  },
  {
   "cell_type": "code",
   "execution_count": 12,
   "id": "fbf8c225",
   "metadata": {},
   "outputs": [],
   "source": [
    "import pickle\n",
    "\n",
    "with open('logp.p', mode='wb') as file:\n",
    "    pickle.dump(logP, file)"
   ]
  },
  {
   "cell_type": "markdown",
   "id": "bfcbecf3",
   "metadata": {},
   "source": [
    "References:\n",
    "\n",
    "Axen SD, Huang XP, Caceres EL, Gendelev L, Roth BL, Keiser MJ. A Simple Representation Of Three-Dimensional Molecular Structure. J. Med. Chem. 60 (17): 7393–7409 (2017).\n",
    "\n",
    "N. Bodor and P. Buchwald: Recent advances in the brain targeting of neuropharmaceuticals by chemical delivery systems. In: Adv Drug Deliv Rev 36, 1999, pp. 229-254.\n",
    "\n",
    "Prediction of Physicochemical Parameters by Atomic Contributions\n",
    "Scott A. Wildman and Gordon M. Crippen\n",
    "Journal of Chemical Information and Computer Sciences 1999 39 (5), 868-873\n",
    "DOI: 10.1021/ci990307l"
   ]
  }
 ],
 "metadata": {
  "celltoolbar": "Raw Cell Format",
  "kernelspec": {
   "display_name": "Python 3 (ipykernel)",
   "language": "python",
   "name": "python3"
  },
  "language_info": {
   "codemirror_mode": {
    "name": "ipython",
    "version": 3
   },
   "file_extension": ".py",
   "mimetype": "text/x-python",
   "name": "python",
   "nbconvert_exporter": "python",
   "pygments_lexer": "ipython3",
   "version": "3.9.10"
  }
 },
 "nbformat": 4,
 "nbformat_minor": 5
}
