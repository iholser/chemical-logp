{
 "cells": [
  {
   "cell_type": "code",
   "execution_count": 2,
   "id": "ce626c57",
   "metadata": {},
   "outputs": [],
   "source": [
    "import chem"
   ]
  },
  {
   "cell_type": "code",
   "execution_count": 3,
   "id": "a74e0cb9",
   "metadata": {},
   "outputs": [],
   "source": [
    "from rdkit.Chem import AllChem as Chem"
   ]
  },
  {
   "cell_type": "code",
   "execution_count": 4,
   "id": "34782ea0",
   "metadata": {},
   "outputs": [],
   "source": [
    "import os"
   ]
  },
  {
   "cell_type": "code",
   "execution_count": 6,
   "id": "a1938477",
   "metadata": {},
   "outputs": [],
   "source": [
    "glucose = open('glucose.mol', 'r').read()\n"
   ]
  },
  {
   "cell_type": "code",
   "execution_count": 7,
   "id": "67629fc4",
   "metadata": {},
   "outputs": [],
   "source": [
    "benzene = chem.chem_3d_from_smiles('c1ccccc1')\n",
    "serotonin = chem.chem_3d_from_smiles('C1=CC2=C(C=C1O)C(=CN2)CCN')"
   ]
  },
  {
   "cell_type": "code",
   "execution_count": 9,
   "id": "533d717a",
   "metadata": {},
   "outputs": [
    {
     "name": "stdout",
     "output_type": "stream",
     "text": [
      "2.13 (LogP)\n",
      "log Kow = 2.13\n",
      "2.13\n",
      "2.13\n",
      "2.13\n",
      "{'cid': 241, 'experimental_logp': 2.13, 'Canonicalized Compound': 1, 'Hydrogen Bond Acceptor Count': 0, 'Hydrogen Bond Donor Count': 0, 'Rotatable Bond Count': 0, 'Allowed IUPAC Name': 'benzene', 'CAS-like Style IUPAC Name': 'benzene', 'Markup IUPAC Name': 'benzene', 'Preferred IUPAC Name': 'benzene', 'Systematic IUPAC Name': 'benzene', 'Traditional IUPAC Name': 'benzene', 'Standard InChI': 'InChI=1S/C6H6/c1-2-4-6-5-3-1/h1-6H', 'Standard InChIKey': 'UHOVQNZJYSORNB-UHFFFAOYSA-N', 'XLogP3 Log P': 2.1, 'Exact Mass': '78.0469501914', 'Canonical SMILES': 'C1=CC=CC=C1', 'Isomeric SMILES': 'C1=CC=CC=C1', 'Polar Surface Area Topological': 0.0, 'MonoIsotopic Weight': '78.0469501914'}\n"
     ]
    },
    {
     "data": {
      "text/plain": [
       "{'mol': '\\n     RDKit          3D\\n\\n 12 12  0  0  0  0  0  0  0  0999 V2000\\n   -0.2995   -1.3510    0.0141 C   0  0  0  0  0  0  0  0  0  0  0  0\\n   -1.3055   -0.4032    0.0428 C   0  0  0  0  0  0  0  0  0  0  0  0\\n   -1.0307    0.9497    0.0294 C   0  0  0  0  0  0  0  0  0  0  0  0\\n    0.3037    1.3426   -0.0142 C   0  0  0  0  0  0  0  0  0  0  0  0\\n    1.2985    0.3934   -0.0425 C   0  0  0  0  0  0  0  0  0  0  0  0\\n    1.0206   -0.9630   -0.0291 C   0  0  0  0  0  0  0  0  0  0  0  0\\n   -0.5031   -2.4015    0.0241 H   0  0  0  0  0  0  0  0  0  0  0  0\\n   -2.3381   -0.7237    0.0766 H   0  0  0  0  0  0  0  0  0  0  0  0\\n   -1.8299    1.6790    0.0523 H   0  0  0  0  0  0  0  0  0  0  0  0\\n    0.5056    2.4116   -0.0242 H   0  0  0  0  0  0  0  0  0  0  0  0\\n    2.3290    0.7220   -0.0763 H   0  0  0  0  0  0  0  0  0  0  0  0\\n    1.8494   -1.6559   -0.0530 H   0  0  0  0  0  0  0  0  0  0  0  0\\n  1  2  2  0\\n  2  3  1  0\\n  3  4  2  0\\n  4  5  1  0\\n  5  6  2  0\\n  6  1  1  0\\n  1  7  1  0\\n  2  8  1  0\\n  3  9  1  0\\n  4 10  1  0\\n  5 11  1  0\\n  6 12  1  0\\nM  END\\n',\n",
       " 'logP': 2.153603445678965,\n",
       " 'XLogP3': 2.1,\n",
       " 'experimental_logp': 2.13,\n",
       " 'wildman_crippen_logP': 1.6866,\n",
       " 'mw': 78.11399999999996,\n",
       " 'h_donor': 0,\n",
       " 'h_acceptor': 0,\n",
       " 'heavy_atom_count': 6,\n",
       " 'rotatable_bonds': 0,\n",
       " 'molar_refractivity': 26.441999999999993}"
      ]
     },
     "execution_count": 9,
     "metadata": {},
     "output_type": "execute_result"
    }
   ],
   "source": [
    "chem.get_chemical_info(benzene)"
   ]
  },
  {
   "cell_type": "code",
   "execution_count": 10,
   "id": "ad2e6561",
   "metadata": {},
   "outputs": [
    {
     "name": "stdout",
     "output_type": "stream",
     "text": [
      "0.21 (LogP)\n",
      "0.21\n",
      "0.21\n",
      "{'cid': 5202, 'experimental_logp': 0.21, 'Canonicalized Compound': 1, 'Hydrogen Bond Acceptor Count': 2, 'Hydrogen Bond Donor Count': 3, 'Rotatable Bond Count': 2, 'Allowed IUPAC Name': '3-(2-aminoethyl)-1H-indol-5-ol', 'CAS-like Style IUPAC Name': '3-(2-aminoethyl)-1H-indol-5-ol', 'Markup IUPAC Name': '3-(2-aminoethyl)-1<I>H</I>-indol-5-ol', 'Preferred IUPAC Name': '3-(2-aminoethyl)-1H-indol-5-ol', 'Systematic IUPAC Name': '3-(2-azanylethyl)-1H-indol-5-ol', 'Traditional IUPAC Name': '3-(2-aminoethyl)-1H-indol-5-ol', 'Standard InChI': 'InChI=1S/C10H12N2O/c11-4-3-7-6-12-10-2-1-8(13)5-9(7)10/h1-2,5-6,12-13H,3-4,11H2', 'Standard InChIKey': 'QZAYGJVTTNCVMB-UHFFFAOYSA-N', 'XLogP3 Log P': 0.2, 'Exact Mass': '176.094963011', 'Canonical SMILES': 'C1=CC2=C(C=C1O)C(=CN2)CCN', 'Isomeric SMILES': 'C1=CC2=C(C=C1O)C(=CN2)CCN', 'Polar Surface Area Topological': 62.0, 'MonoIsotopic Weight': '176.094963011'}\n"
     ]
    },
    {
     "data": {
      "text/plain": [
       "{'mol': '\\n     RDKit          3D\\n\\n 25 26  0  0  0  0  0  0  0  0999 V2000\\n   -3.2738   -0.5240    0.0119 C   0  0  0  0  0  0  0  0  0  0  0  0\\n   -2.9332    0.6884    0.5699 C   0  0  0  0  0  0  0  0  0  0  0  0\\n   -1.6034    1.0613    0.5241 C   0  0  0  0  0  0  0  0  0  0  0  0\\n   -0.6227    0.2606   -0.0580 C   0  0  0  0  0  0  0  0  0  0  0  0\\n   -0.9813   -0.9355   -0.6044 C   0  0  0  0  0  0  0  0  0  0  0  0\\n   -2.2968   -1.3315   -0.5732 C   0  0  0  0  0  0  0  0  0  0  0  0\\n   -2.6309   -2.5454   -1.1328 O   0  0  0  0  0  0  0  0  0  0  0  0\\n    0.5947    0.8726    0.0388 C   0  0  0  0  0  0  0  0  0  0  0  0\\n    0.3780    2.0667    0.6862 C   0  0  0  0  0  0  0  0  0  0  0  0\\n   -0.9455    2.1583    0.9673 N   0  0  0  0  0  0  0  0  0  0  0  0\\n    1.8701    0.3943   -0.4294 C   0  0  0  0  0  0  0  0  0  0  0  0\\n    2.5327   -0.6706    0.3709 C   0  0  0  0  0  0  0  0  0  0  0  0\\n    3.8001   -0.9583   -0.3326 N   0  0  0  0  0  0  0  0  0  0  0  0\\n   -4.3128   -0.8695    0.0193 H   0  0  0  0  0  0  0  0  0  0  0  0\\n   -3.6564    1.3422    1.0314 H   0  0  0  0  0  0  0  0  0  0  0  0\\n   -0.1945   -1.5385   -1.0515 H   0  0  0  0  0  0  0  0  0  0  0  0\\n   -2.6066   -3.3647   -0.5398 H   0  0  0  0  0  0  0  0  0  0  0  0\\n    1.1037    2.8266    0.9450 H   0  0  0  0  0  0  0  0  0  0  0  0\\n   -1.4504    2.9397    1.4550 H   0  0  0  0  0  0  0  0  0  0  0  0\\n    1.8157   -0.0045   -1.4890 H   0  0  0  0  0  0  0  0  0  0  0  0\\n    2.5752    1.2468   -0.5129 H   0  0  0  0  0  0  0  0  0  0  0  0\\n    2.8159   -0.3838    1.3774 H   0  0  0  0  0  0  0  0  0  0  0  0\\n    1.9869   -1.6506    0.3148 H   0  0  0  0  0  0  0  0  0  0  0  0\\n    4.4699   -0.1476   -0.2177 H   0  0  0  0  0  0  0  0  0  0  0  0\\n    3.5654   -0.9331   -1.3708 H   0  0  0  0  0  0  0  0  0  0  0  0\\n  1  2  2  0\\n  2  3  1  0\\n  3  4  2  0\\n  4  5  1  0\\n  5  6  2  0\\n  6  7  1  0\\n  4  8  1  0\\n  8  9  2  0\\n  9 10  1  0\\n  8 11  1  0\\n 11 12  1  0\\n 12 13  1  0\\n  6  1  1  0\\n 10  3  1  0\\n  1 14  1  0\\n  2 15  1  0\\n  5 16  1  0\\n  7 17  1  0\\n  9 18  1  0\\n 10 19  1  0\\n 11 20  1  0\\n 11 21  1  0\\n 12 22  1  0\\n 12 23  1  0\\n 13 24  1  0\\n 13 25  1  0\\nM  END\\n',\n",
       " 'logP': 3.135698028249177,\n",
       " 'XLogP3': 0.2,\n",
       " 'experimental_logp': 0.21,\n",
       " 'wildman_crippen_logP': 1.3747,\n",
       " 'mw': 176.2190000000001,\n",
       " 'h_donor': 3,\n",
       " 'h_acceptor': 2,\n",
       " 'heavy_atom_count': 13,\n",
       " 'rotatable_bonds': 4,\n",
       " 'molar_refractivity': 52.72190000000002}"
      ]
     },
     "execution_count": 10,
     "metadata": {},
     "output_type": "execute_result"
    }
   ],
   "source": [
    "chem.get_chemical_info(serotonin)"
   ]
  },
  {
   "cell_type": "code",
   "execution_count": 11,
   "id": "b22908a4",
   "metadata": {},
   "outputs": [
    {
     "name": "stdout",
     "output_type": "stream",
     "text": [
      "4.05 (LogP)\n",
      "4.6\n",
      "4.23\n",
      "{'cid': 3386, 'experimental_logp': 4.23, 'Canonicalized Compound': 1, 'Hydrogen Bond Acceptor Count': 5, 'Hydrogen Bond Donor Count': 1, 'Rotatable Bond Count': 6, 'Allowed IUPAC Name': 'N-methyl-3-phenyl-3-[4-(trifluoromethyl)phenoxy]propan-1-amine', 'CAS-like Style IUPAC Name': 'N-methyl-3-phenyl-3-[4-(trifluoromethyl)phenoxy]-1-propanamine', 'Markup IUPAC Name': '<I>N</I>-methyl-3-phenyl-3-[4-(trifluoromethyl)phenoxy]propan-1-amine', 'Preferred IUPAC Name': 'N-methyl-3-phenyl-3-[4-(trifluoromethyl)phenoxy]propan-1-amine', 'Systematic IUPAC Name': 'N-methyl-3-phenyl-3-[4-(trifluoromethyl)phenoxy]propan-1-amine', 'Traditional IUPAC Name': 'methyl-[3-phenyl-3-[4-(trifluoromethyl)phenoxy]propyl]amine', 'Standard InChI': 'InChI=1S/C17H18F3NO/c1-21-12-11-16(13-5-3-2-4-6-13)22-15-9-7-14(8-10-15)17(18,19)20/h2-10,16,21H,11-12H2,1H3', 'Standard InChIKey': 'RTHCYVBBDHJXIQ-UHFFFAOYSA-N', 'XLogP3 Log P': 4.0, 'Exact Mass': '309.13404868', 'Canonical SMILES': 'CNCCC(C1=CC=CC=C1)OC2=CC=C(C=C2)C(F)(F)F', 'Isomeric SMILES': 'CNCCC(C1=CC=CC=C1)OC2=CC=C(C=C2)C(F)(F)F', 'Polar Surface Area Topological': 21.3, 'MonoIsotopic Weight': '309.13404868'}\n"
     ]
    },
    {
     "data": {
      "text/plain": [
       "{'mol': '\\n     RDKit          3D\\n\\n 40 41  0  0  0  0  0  0  0  0999 V2000\\n   -1.7304    2.9930    0.0989 C   0  0  0  0  0  0  0  0  0  0  0  0\\n   -1.9497    1.8161    0.9714 N   0  0  0  0  0  0  0  0  0  0  0  0\\n   -2.9368    0.9541    0.2575 C   0  0  0  0  0  0  0  0  0  0  0  0\\n   -2.2847    0.4162   -0.9734 C   0  0  0  0  0  0  0  0  0  0  0  0\\n   -1.0824   -0.4539   -0.7234 C   0  0  0  0  0  0  0  0  0  0  0  0\\n   -1.4478   -1.7071    0.0492 C   0  0  0  0  0  0  0  0  0  0  0  0\\n   -0.3836   -2.4019    0.6325 C   0  0  0  0  0  0  0  0  0  0  0  0\\n   -0.5902   -3.5270    1.3860 C   0  0  0  0  0  0  0  0  0  0  0  0\\n   -1.8928   -4.0001    1.5833 C   0  0  0  0  0  0  0  0  0  0  0  0\\n   -2.9643   -3.3128    1.0040 C   0  0  0  0  0  0  0  0  0  0  0  0\\n   -2.7010   -2.1738    0.2442 C   0  0  0  0  0  0  0  0  0  0  0  0\\n   -0.1440    0.2117    0.0503 O   0  0  0  0  0  0  0  0  0  0  0  0\\n    1.1839    0.4552   -0.1023 C   0  0  0  0  0  0  0  0  0  0  0  0\\n    1.9726    0.1294   -1.1675 C   0  0  0  0  0  0  0  0  0  0  0  0\\n    3.3344    0.4044   -1.2495 C   0  0  0  0  0  0  0  0  0  0  0  0\\n    3.9650    1.0525   -0.1925 C   0  0  0  0  0  0  0  0  0  0  0  0\\n    3.1960    1.3968    0.8976 C   0  0  0  0  0  0  0  0  0  0  0  0\\n    1.8662    1.1153    0.9494 C   0  0  0  0  0  0  0  0  0  0  0  0\\n    5.4141    1.3607   -0.2299 C   0  0  0  0  0  0  0  0  0  0  0  0\\n    5.6269    2.6969    0.0051 F   0  0  0  0  0  0  0  0  0  0  0  0\\n    6.0822    0.5671    0.6991 F   0  0  0  0  0  0  0  0  0  0  0  0\\n    5.8884    1.0515   -1.4833 F   0  0  0  0  0  0  0  0  0  0  0  0\\n   -0.8562    2.8046   -0.5586 H   0  0  0  0  0  0  0  0  0  0  0  0\\n   -2.6264    3.1427   -0.5510 H   0  0  0  0  0  0  0  0  0  0  0  0\\n   -1.5146    3.8584    0.7357 H   0  0  0  0  0  0  0  0  0  0  0  0\\n   -2.4837    2.2151    1.7989 H   0  0  0  0  0  0  0  0  0  0  0  0\\n   -3.7935    1.6283    0.0465 H   0  0  0  0  0  0  0  0  0  0  0  0\\n   -3.2085    0.2067    1.0339 H   0  0  0  0  0  0  0  0  0  0  0  0\\n   -1.8892    1.2930   -1.5665 H   0  0  0  0  0  0  0  0  0  0  0  0\\n   -2.9987   -0.0870   -1.6399 H   0  0  0  0  0  0  0  0  0  0  0  0\\n   -0.6816   -0.8049   -1.6669 H   0  0  0  0  0  0  0  0  0  0  0  0\\n    0.6072   -2.0303    0.4576 H   0  0  0  0  0  0  0  0  0  0  0  0\\n    0.2265   -4.0861    1.8421 H   0  0  0  0  0  0  0  0  0  0  0  0\\n   -2.0568   -4.8747    2.1705 H   0  0  0  0  0  0  0  0  0  0  0  0\\n   -3.9728   -3.6711    1.1607 H   0  0  0  0  0  0  0  0  0  0  0  0\\n   -3.5619   -1.7043   -0.1834 H   0  0  0  0  0  0  0  0  0  0  0  0\\n    1.5312   -0.3685   -2.0068 H   0  0  0  0  0  0  0  0  0  0  0  0\\n    3.9565    0.1343   -2.0974 H   0  0  0  0  0  0  0  0  0  0  0  0\\n    3.6595    1.9115    1.7438 H   0  0  0  0  0  0  0  0  0  0  0  0\\n    1.2410    1.3880    1.7965 H   0  0  0  0  0  0  0  0  0  0  0  0\\n  1  2  1  0\\n  2  3  1  0\\n  3  4  1  0\\n  4  5  1  0\\n  5  6  1  0\\n  6  7  2  0\\n  7  8  1  0\\n  8  9  2  0\\n  9 10  1  0\\n 10 11  2  0\\n  5 12  1  0\\n 12 13  1  0\\n 13 14  2  0\\n 14 15  1  0\\n 15 16  2  0\\n 16 17  1  0\\n 17 18  2  0\\n 16 19  1  0\\n 19 20  1  0\\n 19 21  1  0\\n 19 22  1  0\\n 11  6  1  0\\n 18 13  1  0\\n  1 23  1  0\\n  1 24  1  0\\n  1 25  1  0\\n  2 26  1  0\\n  3 27  1  0\\n  3 28  1  0\\n  4 29  1  0\\n  4 30  1  0\\n  5 31  1  0\\n  7 32  1  0\\n  8 33  1  0\\n  9 34  1  0\\n 10 35  1  0\\n 11 36  1  0\\n 14 37  1  0\\n 15 38  1  0\\n 17 39  1  0\\n 18 40  1  0\\nM  END\\n',\n",
       " 'logP': 5.245243661925906,\n",
       " 'XLogP3': 4.0,\n",
       " 'experimental_logp': 4.23,\n",
       " 'wildman_crippen_logP': 4.435000000000003,\n",
       " 'mw': 309.33099999999956,\n",
       " 'h_donor': 1,\n",
       " 'h_acceptor': 2,\n",
       " 'heavy_atom_count': 22,\n",
       " 'rotatable_bonds': 7,\n",
       " 'molar_refractivity': 79.79870000000004}"
      ]
     },
     "execution_count": 11,
     "metadata": {},
     "output_type": "execute_result"
    }
   ],
   "source": [
    "fluoxetine = chem.chem_3d_from_smiles('CNCCC(C1=CC=CC=C1)OC2=CC=C(C=C2)C(F)(F)F')\n",
    "chem.get_chemical_info(fluoxetine)"
   ]
  },
  {
   "cell_type": "code",
   "execution_count": 13,
   "id": "39ae37a5",
   "metadata": {},
   "outputs": [
    {
     "data": {
      "text/plain": [
       "Fingerprint(indices=array([1, 80, 91, 99, 114, 179, 199, 257, 283, 322, 363, 555, 576, 664, 695, 809, 855, 1030, 1048, 1057, 1073, 1082, 1083, 1148, 1152, 1199, 1223, 1260, 1305, 1365, 1380, 1396, 1417, 1453, 1652, 1656, 1669, 1768, 1873, 1928, 1932, 1991]), level=-1, bits=2048, name=[H]c1c([H])c([H])c(C([H])(Oc2c([H])c([H])c(C(F)(F)F)c([H])c2[H])C([H])([H])C([H])([H])N([H])C([H])([H])[H])c([H])c1[H])"
      ]
     },
     "execution_count": 13,
     "metadata": {},
     "output_type": "execute_result"
    }
   ],
   "source": [
    "chem.get_fingerprint(fluoxetine, '?')"
   ]
  },
  {
   "cell_type": "code",
   "execution_count": 14,
   "id": "e15fbddf",
   "metadata": {},
   "outputs": [],
   "source": [
    "from rdkit.Chem import QED"
   ]
  },
  {
   "cell_type": "code",
   "execution_count": 15,
   "id": "1fe904c1",
   "metadata": {},
   "outputs": [
    {
     "data": {
      "text/plain": [
       "QEDproperties(MW=309.33099999999996, ALOGP=4.435000000000003, HBA=2, HBD=1, PSA=21.259999999999998, ROTB=6, AROM=2, ALERTS=0)"
      ]
     },
     "execution_count": 15,
     "metadata": {},
     "output_type": "execute_result"
    }
   ],
   "source": [
    "QED.properties(fluoxetine)"
   ]
  },
  {
   "cell_type": "code",
   "execution_count": null,
   "id": "ac309025",
   "metadata": {},
   "outputs": [],
   "source": []
  }
 ],
 "metadata": {
  "kernelspec": {
   "display_name": "Python 3 (ipykernel)",
   "language": "python",
   "name": "python3"
  },
  "language_info": {
   "codemirror_mode": {
    "name": "ipython",
    "version": 3
   },
   "file_extension": ".py",
   "mimetype": "text/x-python",
   "name": "python",
   "nbconvert_exporter": "python",
   "pygments_lexer": "ipython3",
   "version": "3.9.2"
  }
 },
 "nbformat": 4,
 "nbformat_minor": 5
}
