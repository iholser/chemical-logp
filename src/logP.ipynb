{
 "cells": [
  {
   "attachments": {},
   "cell_type": "markdown",
   "id": "7b3160f6",
   "metadata": {},
   "source": [
    "# Prediction of logP values from chemical structures\n",
    "\n",
    "logP is the log of the partition coefficient, which describes the proportion of a chemical which will be found in a hydrophobic phase (1-octonol) vs a hydrophillic phase (water). The measure is very useful in the prediction of where a chemical will go in a biological or environmental system. For example, in animals, blood carries hydrophillic materials throughout the body, but without other transport mechanisms, the chemical must also be able to pass through the hydrophobic phospholipid membrane to enter cells.\n",
    "https://en.wikipedia.org/wiki/Partition_coefficient#Partition_coefficient_and_log_P\n",
    "\n",
    "![1024px-Log_P_examples_01.png](1024px-Log_P_examples_01.png)\n",
    "This image shows a selection of chemicals comparing experimental partition between brain/blood and octonol/water showing a relatively high correlation for chemicals without an explicit transporter or efflux mechanism.\n",
    "\n",
    "log P (octanol/water) at the X-axis vers. log Pc (permeability coefficient of rat brain capillaries in cm per second) for various drugs, solvents and other compounds. Data taken from N. Bodor and P. Buchwald: Recent advances in the brain targeting of neuropharmaceuticals by chemical delivery systems. In: Adv Drug Deliv Rev 36, 1999, pp. 229-254.\n",
    "\n",
    "## Goal\n",
    "\n",
    "The goal of this project is to create a system that can take an arbitrary chemical as input and predict a probable logP value from it. This will allow us to make some predications about the properties of this chemical, its suitability for use as a drug and possible environmental fate.\n",
    "Methods for estimating logP from chemical structures do exist and will be used for reference to see if the machine learning methods explored will improve on the predictions."
   ]
  },
  {
   "attachments": {},
   "cell_type": "markdown",
   "id": "254e6d8c",
   "metadata": {},
   "source": []
  },
  {
   "cell_type": "code",
   "execution_count": 20,
   "id": "743d050e",
   "metadata": {},
   "outputs": [],
   "source": [
    "import matplotlib.pyplot as pyplot\n",
    "import numpy as np\n",
    "import pandas as pd\n",
    "from e3fp.fingerprint.db import FingerprintDatabase\n",
    "from e3fp.fingerprint.fprint import Fingerprint\n",
    "from rdkit.Chem import AllChem as Chem\n",
    "from rdkit.Chem import Descriptors\n",
    "from sklearn.metrics import r2_score, mean_squared_error, mean_absolute_error\n",
    "from sklearn.model_selection import train_test_split\n",
    "from sklearn.ensemble import RandomForestRegressor\n",
    "from sklearn.neural_network import MLPRegressor\n",
    "from sklearn.svm import SVR\n",
    "\n",
    "import chem"
   ]
  },
  {
   "cell_type": "markdown",
   "id": "1b949b09",
   "metadata": {},
   "source": [
    "Data collected from https://www.kaggle.com/matthewmasters/chemical-structure-and-logp \n",
    "This two column dataset contains only stereoscopic SMILES (https://en.wikipedia.org/wiki/Simplified_molecular-input_line-entry_system) encoded chemical structures and experimental logP values."
   ]
  },
  {
   "cell_type": "code",
   "execution_count": 64,
   "id": "e25e7c7e",
   "metadata": {},
   "outputs": [
    {
     "data": {
      "text/html": [
       "<div>\n",
       "<style scoped>\n",
       "    .dataframe tbody tr th:only-of-type {\n",
       "        vertical-align: middle;\n",
       "    }\n",
       "\n",
       "    .dataframe tbody tr th {\n",
       "        vertical-align: top;\n",
       "    }\n",
       "\n",
       "    .dataframe thead th {\n",
       "        text-align: right;\n",
       "    }\n",
       "</style>\n",
       "<table border=\"1\" class=\"dataframe\">\n",
       "  <thead>\n",
       "    <tr style=\"text-align: right;\">\n",
       "      <th></th>\n",
       "      <th>smiles</th>\n",
       "      <th>logp</th>\n",
       "    </tr>\n",
       "  </thead>\n",
       "  <tbody>\n",
       "    <tr>\n",
       "      <th>0</th>\n",
       "      <td>C[C@H]([C@@H](C)Cl)Cl</td>\n",
       "      <td>2.3</td>\n",
       "    </tr>\n",
       "    <tr>\n",
       "      <th>1</th>\n",
       "      <td>C(C=CBr)N</td>\n",
       "      <td>0.3</td>\n",
       "    </tr>\n",
       "    <tr>\n",
       "      <th>2</th>\n",
       "      <td>CCC(CO)Br</td>\n",
       "      <td>1.3</td>\n",
       "    </tr>\n",
       "    <tr>\n",
       "      <th>3</th>\n",
       "      <td>[13CH3][13CH2][13CH2][13CH2][13CH2][13CH2]O</td>\n",
       "      <td>2.0</td>\n",
       "    </tr>\n",
       "    <tr>\n",
       "      <th>4</th>\n",
       "      <td>CCCOCCP</td>\n",
       "      <td>0.6</td>\n",
       "    </tr>\n",
       "  </tbody>\n",
       "</table>\n",
       "</div>"
      ],
      "text/plain": [
       "                                        smiles  logp\n",
       "0                        C[C@H]([C@@H](C)Cl)Cl   2.3\n",
       "1                                    C(C=CBr)N   0.3\n",
       "2                                    CCC(CO)Br   1.3\n",
       "3  [13CH3][13CH2][13CH2][13CH2][13CH2][13CH2]O   2.0\n",
       "4                                      CCCOCCP   0.6"
      ]
     },
     "execution_count": 64,
     "metadata": {},
     "output_type": "execute_result"
    }
   ],
   "source": [
    "logP = pd.read_csv('/data/logP_dataset.csv')\n",
    "logP.head()"
   ]
  },
  {
   "cell_type": "markdown",
   "id": "8e1d2ad0",
   "metadata": {},
   "source": [
    "create 3d chemical structures from the SMILES strings. Functional code was abstracted out into a separate file for reusability."
   ]
  },
  {
   "cell_type": "code",
   "execution_count": null,
   "id": "3f9354f1",
   "metadata": {},
   "outputs": [],
   "source": [
    "logP['molecule'] = logP['smiles'].apply(chem.chem_3d_from_smiles)"
   ]
  },
  {
   "cell_type": "code",
   "execution_count": 66,
   "id": "4fff1f2d",
   "metadata": {},
   "outputs": [
    {
     "data": {
      "text/html": [
       "<div>\n",
       "<style scoped>\n",
       "    .dataframe tbody tr th:only-of-type {\n",
       "        vertical-align: middle;\n",
       "    }\n",
       "\n",
       "    .dataframe tbody tr th {\n",
       "        vertical-align: top;\n",
       "    }\n",
       "\n",
       "    .dataframe thead th {\n",
       "        text-align: right;\n",
       "    }\n",
       "</style>\n",
       "<table border=\"1\" class=\"dataframe\">\n",
       "  <thead>\n",
       "    <tr style=\"text-align: right;\">\n",
       "      <th></th>\n",
       "      <th>smiles</th>\n",
       "      <th>logp</th>\n",
       "      <th>molecule</th>\n",
       "    </tr>\n",
       "  </thead>\n",
       "  <tbody>\n",
       "    <tr>\n",
       "      <th>0</th>\n",
       "      <td>C[C@H]([C@@H](C)Cl)Cl</td>\n",
       "      <td>2.3</td>\n",
       "      <td>&lt;rdkit.Chem.rdchem.Mol object at 0x7fb1d0025a60&gt;</td>\n",
       "    </tr>\n",
       "    <tr>\n",
       "      <th>1</th>\n",
       "      <td>C(C=CBr)N</td>\n",
       "      <td>0.3</td>\n",
       "      <td>&lt;rdkit.Chem.rdchem.Mol object at 0x7fb1d00258e0&gt;</td>\n",
       "    </tr>\n",
       "    <tr>\n",
       "      <th>2</th>\n",
       "      <td>CCC(CO)Br</td>\n",
       "      <td>1.3</td>\n",
       "      <td>&lt;rdkit.Chem.rdchem.Mol object at 0x7fb1d0025ac0&gt;</td>\n",
       "    </tr>\n",
       "    <tr>\n",
       "      <th>3</th>\n",
       "      <td>[13CH3][13CH2][13CH2][13CH2][13CH2][13CH2]O</td>\n",
       "      <td>2.0</td>\n",
       "      <td>&lt;rdkit.Chem.rdchem.Mol object at 0x7fb1d0025a00&gt;</td>\n",
       "    </tr>\n",
       "    <tr>\n",
       "      <th>4</th>\n",
       "      <td>CCCOCCP</td>\n",
       "      <td>0.6</td>\n",
       "      <td>&lt;rdkit.Chem.rdchem.Mol object at 0x7fb1d0025be0&gt;</td>\n",
       "    </tr>\n",
       "  </tbody>\n",
       "</table>\n",
       "</div>"
      ],
      "text/plain": [
       "                                        smiles  logp  \\\n",
       "0                        C[C@H]([C@@H](C)Cl)Cl   2.3   \n",
       "1                                    C(C=CBr)N   0.3   \n",
       "2                                    CCC(CO)Br   1.3   \n",
       "3  [13CH3][13CH2][13CH2][13CH2][13CH2][13CH2]O   2.0   \n",
       "4                                      CCCOCCP   0.6   \n",
       "\n",
       "                                           molecule  \n",
       "0  <rdkit.Chem.rdchem.Mol object at 0x7fb1d0025a60>  \n",
       "1  <rdkit.Chem.rdchem.Mol object at 0x7fb1d00258e0>  \n",
       "2  <rdkit.Chem.rdchem.Mol object at 0x7fb1d0025ac0>  \n",
       "3  <rdkit.Chem.rdchem.Mol object at 0x7fb1d0025a00>  \n",
       "4  <rdkit.Chem.rdchem.Mol object at 0x7fb1d0025be0>  "
      ]
     },
     "execution_count": 66,
     "metadata": {},
     "output_type": "execute_result"
    }
   ],
   "source": [
    "logP.head()"
   ]
  },
  {
   "cell_type": "markdown",
   "id": "c0aeeb33",
   "metadata": {},
   "source": [
    "After conversion, check to ensure that there is usable data for all records in the data set"
   ]
  },
  {
   "cell_type": "code",
   "execution_count": 67,
   "id": "ce386be9",
   "metadata": {},
   "outputs": [
    {
     "data": {
      "text/plain": [
       "smiles      0\n",
       "logp        0\n",
       "molecule    0\n",
       "dtype: int64"
      ]
     },
     "execution_count": 67,
     "metadata": {},
     "output_type": "execute_result"
    }
   ],
   "source": [
    "logP.isna().sum()"
   ]
  },
  {
   "cell_type": "markdown",
   "id": "3a4de064",
   "metadata": {},
   "source": [
    "generate 3d descriptor fingerprints"
   ]
  },
  {
   "cell_type": "code",
   "execution_count": 68,
   "id": "1864c9e1",
   "metadata": {},
   "outputs": [],
   "source": [
    "logP['fingerprint'] = logP['molecule'].apply(lambda mol: Fingerprint.from_rdkit(Chem.GetMorganFingerprintAsBitVect(mol, 2)))"
   ]
  },
  {
   "cell_type": "markdown",
   "id": "05606b22",
   "metadata": {},
   "source": [
    "Chemical fingerprints are very low density structures, making them very difficult to train models on. To increase the density (at only minimal loss of data), the fingerprints are folded into 1024 bits."
   ]
  },
  {
   "cell_type": "code",
   "execution_count": 69,
   "id": "d52dd051",
   "metadata": {},
   "outputs": [
    {
     "name": "stdout",
     "output_type": "stream",
     "text": [
      "0.014987995165982204\n"
     ]
    }
   ],
   "source": [
    "db = FingerprintDatabase(fp_type=Fingerprint, name=\"logP\")\n",
    "db.add_fingerprints(logP['fingerprint'])\n",
    "folded = db.fold(1024)\n",
    "print(folded.get_density())"
   ]
  },
  {
   "cell_type": "markdown",
   "id": "e64907f3",
   "metadata": {},
   "source": [
    "Display the fit of the rdkit generated logP value vs the experimental data from the dataset. Rdkit uses the Wildman-Crippen method.\n",
    "\n",
    "Prediction of Physicochemical Parameters by Atomic Contributions\n",
    "Scott A. Wildman and Gordon M. Crippen\n",
    "Journal of Chemical Information and Computer Sciences 1999 39 (5), 868-873\n",
    "DOI: 10.1021/ci990307l"
   ]
  },
  {
   "cell_type": "code",
   "execution_count": 71,
   "id": "a892d7ae",
   "metadata": {
    "scrolled": true
   },
   "outputs": [],
   "source": [
    "logP['rdkit_logp'] = logP['molecule'].apply(Descriptors.MolLogP)"
   ]
  },
  {
   "cell_type": "code",
   "execution_count": 30,
   "id": "936c459d",
   "metadata": {},
   "outputs": [
    {
     "data": {
      "image/png": "[encoded data removed]",
      "text/plain": [
       "<Figure size 432x288 with 1 Axes>"
      ]
     },
     "metadata": {
      "needs_background": "light"
     },
     "output_type": "display_data"
    }
   ],
   "source": [
    "r2 = r2_score(logP['logp'], logP['rdkit_logp'])\n",
    "pyplot.scatter(logP['logp'], logP['rdkit_logp'], label='R²: %f' % r2)\n",
    "pyplot.legend()\n",
    "pyplot.show()"
   ]
  },
  {
   "cell_type": "code",
   "execution_count": 32,
   "id": "b5d71a9e",
   "metadata": {},
   "outputs": [],
   "source": [
    "X_train, X_test, y_train, y_test = train_test_split(logP['fingerprint'], logP['logp'], test_size=0.2, random_state=42)\n"
   ]
  },
  {
   "cell_type": "code",
   "execution_count": 72,
   "id": "9a7b06d2",
   "metadata": {},
   "outputs": [],
   "source": [
    "from sklearn.linear_model import LogisticRegression\n",
    "from sklearn.neighbors import KNeighborsClassifier\n",
    "from sklearn.svm import SVC\n",
    "from sklearn.ensemble import RandomForestClassifier\n",
    "from sklearn.naive_bayes import GaussianNB\n",
    "from sklearn import model_selection\n",
    "from sklearn.utils import class_weight\n",
    "from sklearn.utils import resample\n",
    "from sklearn.metrics import classification_report\n",
    "from sklearn.metrics import confusion_matrix"
   ]
  },
  {
   "cell_type": "code",
   "execution_count": null,
   "id": "7a6bbe43",
   "metadata": {},
   "outputs": [],
   "source": [
    "from e3fp.fingerprint.metrics.array_metrics import tanimoto\n",
    "from e3fp.fingerprint.db import FingerprintDatabase\n",
    "from e3fp.fingerprint.fprint import Fingerprint\n",
    "# models = [LogisticRegression(), SVC(), KNeighborsClassifier(), GaussianNB(), RandomForestClassifier()]\n",
    "# models = [SVC(kernel=tanimoto)]\n",
    "models = [SVC()]\n",
    "X_sample, y_sample = resample(logP['fingerprint'], logP['logp'], n_samples=100, random_state=42)\n",
    "\n",
    "# X_sample[7270]\n",
    "sample_db = FingerprintDatabase(fp_type=Fingerprint, name=\"sample\")\n",
    "sample_db.add_fingerprints(X_sample)\n",
    "\n",
    "# scoring = ['accuracy', 'precision_weighted', 'recall_weighted', 'f1_weighted', 'roc_auc']\n",
    "\n",
    "# X_sample[7270].array\n",
    "\n",
    "# for model in models:\n",
    "#     kfold = model_selection.KFold(n_splits=5, shuffle=True, random_state=42)\n",
    "#     results = model_selection.cross_validate(model, X_sample.apply(lambda fp: fp.array), y_sample, cv=kfold, scoring=scoring)\n",
    "#     print(results)\n",
    "#     clf = model.fit(X_sample.array, y_sample)\n",
    "#     print(clf)"
   ]
  },
  {
   "cell_type": "code",
   "execution_count": null,
   "id": "57eeae4e",
   "metadata": {},
   "outputs": [],
   "source": []
  },
  {
   "cell_type": "markdown",
   "id": "c3b6a5b5",
   "metadata": {},
   "source": [
    "References:\n",
    "\n",
    "N. Bodor and P. Buchwald: Recent advances in the brain targeting of neuropharmaceuticals by chemical delivery systems. In: Adv Drug Deliv Rev 36, 1999, pp. 229-254.\n",
    "\n",
    "Prediction of Physicochemical Parameters by Atomic Contributions\n",
    "Scott A. Wildman and Gordon M. Crippen\n",
    "Journal of Chemical Information and Computer Sciences 1999 39 (5), 868-873\n",
    "DOI: 10.1021/ci990307l"
   ]
  }
 ],
 "metadata": {
  "celltoolbar": "Raw Cell Format",
  "kernelspec": {
   "display_name": "Python 3 (ipykernel)",
   "language": "python",
   "name": "python3"
  },
  "language_info": {
   "codemirror_mode": {
    "name": "ipython",
    "version": 3
   },
   "file_extension": ".py",
   "mimetype": "text/x-python",
   "name": "python",
   "nbconvert_exporter": "python",
   "pygments_lexer": "ipython3",
   "version": "3.9.2"
  }
 },
 "nbformat": 4,
 "nbformat_minor": 5
}
