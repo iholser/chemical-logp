{
 "cells": [
  {
   "attachments": {},
   "cell_type": "markdown",
   "id": "a8d46710",
   "metadata": {},
   "source": [
    "# Prediction of logP values from chemical structures\n",
    "\n",
    "logP is the log of the partition coefficient, which describes the proportion of a chemical which will be found in a hydrophobic phase (1-octonol) vs a hydrophillic phase (water). The measure is very useful in the prediction of where a chemical will go in a biological or environmental system. For example, in animals, blood carries hydrophillic materials throughout the body, but without other transport mechanisms, the chemical must also be able to pass through the hydrophobic phospholipid membrane to enter cells.\n",
    "https://en.wikipedia.org/wiki/Partition_coefficient#Partition_coefficient_and_log_P\n",
    "\n",
    "![1024px-Log_P_examples_01.png](1024px-Log_P_examples_01.png)\n",
    "This image shows a selection of chemicals comparing experimental partition between brain/blood and octonol/water showing a relatively high correlation for chemicals without an explicit transporter or efflux mechanism.\n",
    "\n",
    "log P (octanol/water) at the X-axis vers. log Pc (permeability coefficient of rat brain capillaries in cm per second) for various drugs, solvents and other compounds. Data taken from N. Bodor and P. Buchwald: Recent advances in the brain targeting of neuropharmaceuticals by chemical delivery systems. In: Adv Drug Deliv Rev 36, 1999, pp. 229-254.\n",
    "\n",
    "## Goal\n",
    "\n",
    "The goal of this project is to create a system that can take an arbitrary chemical as input and predict a probable logP value from it. This will allow us to make some predications about the properties of this chemical, its suitability for use as a drug and possible environmental fate.\n",
    "Methods for estimating logP from chemical structures do exist and will be used for reference to see if the machine learning methods explored will improve on the predictions."
   ]
  },
  {
   "attachments": {},
   "cell_type": "markdown",
   "id": "0dcb6a18",
   "metadata": {},
   "source": []
  },
  {
   "cell_type": "code",
   "execution_count": 20,
   "id": "743d050e",
   "metadata": {},
   "outputs": [],
   "source": [
    "import matplotlib.pyplot as pyplot\n",
    "import numpy as np\n",
    "import pandas as pd\n",
    "from e3fp.fingerprint.db import FingerprintDatabase\n",
    "from e3fp.fingerprint.fprint import Fingerprint\n",
    "from rdkit.Chem import AllChem as Chem\n",
    "from rdkit.Chem import Descriptors\n",
    "from sklearn.metrics import r2_score, mean_squared_error, mean_absolute_error\n",
    "from sklearn.model_selection import train_test_split\n",
    "from sklearn.ensemble import RandomForestRegressor\n",
    "from sklearn.neural_network import MLPRegressor\n",
    "from sklearn.svm import SVR\n",
    "\n",
    "import chem"
   ]
  },
  {
   "cell_type": "markdown",
   "id": "2d347934",
   "metadata": {},
   "source": [
    "Data collected from https://www.kaggle.com/matthewmasters/chemical-structure-and-logp \n",
    "This two column dataset contains only stereoscopic SMILES (https://en.wikipedia.org/wiki/Simplified_molecular-input_line-entry_system) encoded chemical structures and experimental logP values."
   ]
  },
  {
   "cell_type": "code",
   "execution_count": 64,
   "id": "e25e7c7e",
   "metadata": {},
   "outputs": [
    {
     "data": {
      "text/html": [
       "<div>\n",
       "<style scoped>\n",
       "    .dataframe tbody tr th:only-of-type {\n",
       "        vertical-align: middle;\n",
       "    }\n",
       "\n",
       "    .dataframe tbody tr th {\n",
       "        vertical-align: top;\n",
       "    }\n",
       "\n",
       "    .dataframe thead th {\n",
       "        text-align: right;\n",
       "    }\n",
       "</style>\n",
       "<table border=\"1\" class=\"dataframe\">\n",
       "  <thead>\n",
       "    <tr style=\"text-align: right;\">\n",
       "      <th></th>\n",
       "      <th>smiles</th>\n",
       "      <th>logp</th>\n",
       "    </tr>\n",
       "  </thead>\n",
       "  <tbody>\n",
       "    <tr>\n",
       "      <th>0</th>\n",
       "      <td>C[C@H]([C@@H](C)Cl)Cl</td>\n",
       "      <td>2.3</td>\n",
       "    </tr>\n",
       "    <tr>\n",
       "      <th>1</th>\n",
       "      <td>C(C=CBr)N</td>\n",
       "      <td>0.3</td>\n",
       "    </tr>\n",
       "    <tr>\n",
       "      <th>2</th>\n",
       "      <td>CCC(CO)Br</td>\n",
       "      <td>1.3</td>\n",
       "    </tr>\n",
       "    <tr>\n",
       "      <th>3</th>\n",
       "      <td>[13CH3][13CH2][13CH2][13CH2][13CH2][13CH2]O</td>\n",
       "      <td>2.0</td>\n",
       "    </tr>\n",
       "    <tr>\n",
       "      <th>4</th>\n",
       "      <td>CCCOCCP</td>\n",
       "      <td>0.6</td>\n",
       "    </tr>\n",
       "  </tbody>\n",
       "</table>\n",
       "</div>"
      ],
      "text/plain": [
       "                                        smiles  logp\n",
       "0                        C[C@H]([C@@H](C)Cl)Cl   2.3\n",
       "1                                    C(C=CBr)N   0.3\n",
       "2                                    CCC(CO)Br   1.3\n",
       "3  [13CH3][13CH2][13CH2][13CH2][13CH2][13CH2]O   2.0\n",
       "4                                      CCCOCCP   0.6"
      ]
     },
     "execution_count": 64,
     "metadata": {},
     "output_type": "execute_result"
    }
   ],
   "source": [
    "logP = pd.read_csv('/data/logP_dataset.csv')\n",
    "logP.head()"
   ]
  },
  {
   "cell_type": "markdown",
   "id": "5d8ecb78",
   "metadata": {},
   "source": [
    "create 3d chemical structures from the SMILES strings. Functional code was abstracted out into a separate file for reusability."
   ]
  },
  {
   "cell_type": "code",
   "execution_count": null,
   "id": "3f9354f1",
   "metadata": {},
   "outputs": [],
   "source": [
    "logP['molecule'] = logP['smiles'].apply(chem.chem_3d_from_smiles)"
   ]
  },
  {
   "cell_type": "code",
   "execution_count": 66,
   "id": "4fff1f2d",
   "metadata": {},
   "outputs": [
    {
     "data": {
      "text/html": [
       "<div>\n",
       "<style scoped>\n",
       "    .dataframe tbody tr th:only-of-type {\n",
       "        vertical-align: middle;\n",
       "    }\n",
       "\n",
       "    .dataframe tbody tr th {\n",
       "        vertical-align: top;\n",
       "    }\n",
       "\n",
       "    .dataframe thead th {\n",
       "        text-align: right;\n",
       "    }\n",
       "</style>\n",
       "<table border=\"1\" class=\"dataframe\">\n",
       "  <thead>\n",
       "    <tr style=\"text-align: right;\">\n",
       "      <th></th>\n",
       "      <th>smiles</th>\n",
       "      <th>logp</th>\n",
       "      <th>molecule</th>\n",
       "    </tr>\n",
       "  </thead>\n",
       "  <tbody>\n",
       "    <tr>\n",
       "      <th>0</th>\n",
       "      <td>C[C@H]([C@@H](C)Cl)Cl</td>\n",
       "      <td>2.3</td>\n",
       "      <td>&lt;rdkit.Chem.rdchem.Mol object at 0x7fb1d0025a60&gt;</td>\n",
       "    </tr>\n",
       "    <tr>\n",
       "      <th>1</th>\n",
       "      <td>C(C=CBr)N</td>\n",
       "      <td>0.3</td>\n",
       "      <td>&lt;rdkit.Chem.rdchem.Mol object at 0x7fb1d00258e0&gt;</td>\n",
       "    </tr>\n",
       "    <tr>\n",
       "      <th>2</th>\n",
       "      <td>CCC(CO)Br</td>\n",
       "      <td>1.3</td>\n",
       "      <td>&lt;rdkit.Chem.rdchem.Mol object at 0x7fb1d0025ac0&gt;</td>\n",
       "    </tr>\n",
       "    <tr>\n",
       "      <th>3</th>\n",
       "      <td>[13CH3][13CH2][13CH2][13CH2][13CH2][13CH2]O</td>\n",
       "      <td>2.0</td>\n",
       "      <td>&lt;rdkit.Chem.rdchem.Mol object at 0x7fb1d0025a00&gt;</td>\n",
       "    </tr>\n",
       "    <tr>\n",
       "      <th>4</th>\n",
       "      <td>CCCOCCP</td>\n",
       "      <td>0.6</td>\n",
       "      <td>&lt;rdkit.Chem.rdchem.Mol object at 0x7fb1d0025be0&gt;</td>\n",
       "    </tr>\n",
       "  </tbody>\n",
       "</table>\n",
       "</div>"
      ],
      "text/plain": [
       "                                        smiles  logp  \\\n",
       "0                        C[C@H]([C@@H](C)Cl)Cl   2.3   \n",
       "1                                    C(C=CBr)N   0.3   \n",
       "2                                    CCC(CO)Br   1.3   \n",
       "3  [13CH3][13CH2][13CH2][13CH2][13CH2][13CH2]O   2.0   \n",
       "4                                      CCCOCCP   0.6   \n",
       "\n",
       "                                           molecule  \n",
       "0  <rdkit.Chem.rdchem.Mol object at 0x7fb1d0025a60>  \n",
       "1  <rdkit.Chem.rdchem.Mol object at 0x7fb1d00258e0>  \n",
       "2  <rdkit.Chem.rdchem.Mol object at 0x7fb1d0025ac0>  \n",
       "3  <rdkit.Chem.rdchem.Mol object at 0x7fb1d0025a00>  \n",
       "4  <rdkit.Chem.rdchem.Mol object at 0x7fb1d0025be0>  "
      ]
     },
     "execution_count": 66,
     "metadata": {},
     "output_type": "execute_result"
    }
   ],
   "source": [
    "logP.head()"
   ]
  },
  {
   "cell_type": "markdown",
   "id": "f21190c6",
   "metadata": {},
   "source": [
    "After conversion, check to ensure that there is usable data for all records in the data set"
   ]
  },
  {
   "cell_type": "code",
   "execution_count": 67,
   "id": "ce386be9",
   "metadata": {},
   "outputs": [
    {
     "data": {
      "text/plain": [
       "smiles      0\n",
       "logp        0\n",
       "molecule    0\n",
       "dtype: int64"
      ]
     },
     "execution_count": 67,
     "metadata": {},
     "output_type": "execute_result"
    }
   ],
   "source": [
    "logP.isna().sum()"
   ]
  },
  {
   "cell_type": "markdown",
   "id": "3a4de064",
   "metadata": {},
   "source": [
    "generate 3d descriptor fingerprints"
   ]
  },
  {
   "cell_type": "code",
   "execution_count": 68,
   "id": "1864c9e1",
   "metadata": {},
   "outputs": [],
   "source": [
    "logP['fingerprint'] = logP['molecule'].apply(lambda mol: Fingerprint.from_rdkit(Chem.GetMorganFingerprintAsBitVect(mol, 2)))"
   ]
  },
  {
   "cell_type": "markdown",
   "id": "875ed136",
   "metadata": {},
   "source": [
    "Chemical fingerprints are very low density structures, making them very difficult to train models on. To increase the density (at only minimal loss of data), the fingerprints are folded into 1024 bits."
   ]
  },
  {
   "cell_type": "code",
   "execution_count": 104,
   "id": "d52dd051",
   "metadata": {},
   "outputs": [
    {
     "name": "stdout",
     "output_type": "stream",
     "text": [
      "0.014987995165982204\n"
     ]
    }
   ],
   "source": [
    "db = FingerprintDatabase(fp_type=Fingerprint, name=\"logP\")\n",
    "db.add_fingerprints(logP['fingerprint'])\n",
    "folded = db.fold(1024)\n",
    "print(folded.get_density())"
   ]
  },
  {
   "cell_type": "markdown",
   "id": "e64907f3",
   "metadata": {},
   "source": [
    "Display the fit of the rdkit generated logP value vs the experimental data from the dataset. Rdkit uses the Wildman-Crippen method.\n",
    "\n",
    "Prediction of Physicochemical Parameters by Atomic Contributions\n",
    "Scott A. Wildman and Gordon M. Crippen\n",
    "Journal of Chemical Information and Computer Sciences 1999 39 (5), 868-873\n",
    "DOI: 10.1021/ci990307l"
   ]
  },
  {
   "cell_type": "code",
   "execution_count": 71,
   "id": "a892d7ae",
   "metadata": {
    "scrolled": true
   },
   "outputs": [],
   "source": [
    "logP['rdkit_logp'] = logP['molecule'].apply(Descriptors.MolLogP)"
   ]
  },
  {
   "cell_type": "code",
   "execution_count": 30,
   "id": "936c459d",
   "metadata": {},
   "outputs": [
    {
     "data": {
      "image/png": "[encoded data removed]",
      "text/plain": [
       "<Figure size 432x288 with 1 Axes>"
      ]
     },
     "metadata": {
      "needs_background": "light"
     },
     "output_type": "display_data"
    }
   ],
   "source": [
    "r2 = r2_score(logP['logp'], logP['rdkit_logp'])\n",
    "pyplot.scatter(logP['logp'], logP['rdkit_logp'], label='R²: %f' % r2)\n",
    "pyplot.legend()\n",
    "pyplot.show()"
   ]
  },
  {
   "cell_type": "code",
   "execution_count": 32,
   "id": "b5d71a9e",
   "metadata": {},
   "outputs": [],
   "source": [
    "X_train, X_test, y_train, y_test = train_test_split(logP['fingerprint'], logP['logp'], test_size=0.2, random_state=42)\n"
   ]
  },
  {
   "cell_type": "code",
   "execution_count": 72,
   "id": "9a7b06d2",
   "metadata": {},
   "outputs": [],
   "source": [
    "from e3fp.fingerprint.metrics.array_metrics import tanimoto\n",
    "from e3fp.fingerprint.db import FingerprintDatabase\n",
    "from e3fp.fingerprint.fprint import Fingerprint\n",
    "from sklearn.svm import SVR\n",
    "from sklearn.svm import LinearSVR\n",
    "from sklearn.linear_model import SGDRegressor\n",
    "from sklearn.linear_model import Ridge\n",
    "from sklearn.linear_model import ElasticNet\n",
    "from sklearn import model_selection\n",
    "from sklearn.utils import class_weight\n",
    "from sklearn.utils import resample\n",
    "from sklearn.metrics import classification_report\n",
    "from sklearn.metrics import confusion_matrix"
   ]
  },
  {
   "cell_type": "code",
   "execution_count": 184,
   "id": "7a6bbe43",
   "metadata": {},
   "outputs": [
    {
     "name": "stdout",
     "output_type": "stream",
     "text": [
      "2.3\n",
      "SVR: 2.185303\n",
      "Linear SVR: 2.024262\n",
      "SGD: 2.148000\n",
      "Ridge: 2.090832\n",
      "ElasticNet: 1.171000\n",
      "[{'fit_time': array([0.00880075, 0.01000738, 0.01033163, 0.00984955, 0.00930738]), 'score_time': array([0.0099318 , 0.00860071, 0.01151419, 0.00912738, 0.00765181]), 'test_explained_variance': array([0.29514889, 0.50089991, 0.56264247, 0.3952873 , 0.59631237]), 'test_max_error': array([-2.97169261, -1.46328739, -2.32717369, -2.86816745, -1.73723507]), 'test_r2': array([0.29210942, 0.46731802, 0.5410837 , 0.15741618, 0.5613428 ])}, {'fit_time': array([0.00921845, 0.00809407, 0.00560665, 0.00713325, 0.00710773]), 'score_time': array([0.00505471, 0.00503778, 0.00610733, 0.00509834, 0.00677443]), 'test_explained_variance': array([0.32484078, 0.55436069, 0.60925953, 0.51413865, 0.67174318]), 'test_max_error': array([-2.78921186, -1.38279817, -2.14948678, -2.33600746, -1.39072812]), 'test_r2': array([0.31408624, 0.49380067, 0.57619265, 0.36337526, 0.57063692])}, {'fit_time': array([0.00354838, 0.01227808, 0.01200342, 0.00946546, 0.00926495]), 'score_time': array([0.00237536, 0.00686193, 0.00660062, 0.00514483, 0.00495791]), 'test_explained_variance': array([0.32434741, 0.56375906, 0.61051482, 0.57661794, 0.66317246]), 'test_max_error': array([-2.99489605, -1.3224705 , -2.14471711, -2.51179928, -1.53860395]), 'test_r2': array([0.30618309, 0.50534939, 0.54603992, 0.37642916, 0.53690948])}, {'fit_time': array([0.02972007, 0.01460767, 0.01263881, 0.0291779 , 0.03384137]), 'score_time': array([0.00193596, 0.00102258, 0.00516295, 0.00523925, 0.00719738]), 'test_explained_variance': array([0.33939792, 0.59297973, 0.67158082, 0.49510063, 0.67394578]), 'test_max_error': array([-2.7115364 , -1.39221512, -2.06929246, -2.58449386, -1.29245927]), 'test_r2': array([0.33939379, 0.55135561, 0.65205388, 0.30826817, 0.60524485])}, {'fit_time': array([0.0140624 , 0.01175213, 0.01203585, 0.01025677, 0.00999093]), 'score_time': array([0.00863433, 0.00701261, 0.00569701, 0.0062685 , 0.00460458]), 'test_explained_variance': array([-2.22044605e-16, -2.22044605e-16,  0.00000000e+00,  0.00000000e+00,\n",
      "        2.22044605e-16]), 'test_max_error': array([-3.29125, -2.24   , -2.8025 , -3.56   , -2.75625]), 'test_r2': array([-0.05643514, -0.02284886, -0.06298407, -0.41300251, -0.01842404])}]\n"
     ]
    },
    {
     "data": {
      "image/png": "[encoded data removed]",
      "text/plain": [
       "<Figure size 432x288 with 1 Axes>"
      ]
     },
     "metadata": {
      "needs_background": "light"
     },
     "output_type": "display_data"
    }
   ],
   "source": [
    "models = [\n",
    "    ('SVR', SVR(kernel=tanimoto)),\n",
    "    ('Linear SVR', LinearSVR()), \n",
    "    ('SGD', SGDRegressor()), \n",
    "    ('Ridge', Ridge()),\n",
    "    ('ElasticNet', ElasticNet())\n",
    "]\n",
    "X_sample, y_sample = resample(logP['fingerprint'], logP['logp'], n_samples=100, random_state=42)\n",
    "\n",
    "sample_db = FingerprintDatabase(fp_type=Fingerprint, name=\"sample\")\n",
    "sample_db.add_fingerprints(X_sample.values)\n",
    "\n",
    "scoring = ['explained_variance', 'max_error', 'r2']\n",
    "\n",
    "print(logP['logp'].iloc[0])\n",
    "fp_test = FingerprintDatabase(fp_type=Fingerprint, name=\"fp_test\")\n",
    "fp_test.add_fingerprints([logP['fingerprint'].iloc[0]])\n",
    "\n",
    "results = []\n",
    "\n",
    "for name, model in models:\n",
    "    kfold = model_selection.KFold(n_splits=5, shuffle=True, random_state=42)\n",
    "    results.append(model_selection.cross_validate(model, sample_db.array, y_sample, cv=kfold, scoring=scoring))\n",
    "    clf = model.fit(sample_db.array, y_sample)\n",
    "    print('%s: %f' % (name, clf.predict(fp_test.array)))\n",
    "\n",
    "# model_results = pd.DataFrame(results)\n",
    "# model_results\n",
    "print(results)\n",
    "pyplot.boxplot(model_results['fit_time'], labels=list(map(lambda m: m[0], models)))\n",
    "pyplot.show()"
   ]
  },
  {
   "cell_type": "code",
   "execution_count": null,
   "id": "57eeae4e",
   "metadata": {},
   "outputs": [],
   "source": []
  },
  {
   "cell_type": "markdown",
   "id": "bfcbecf3",
   "metadata": {},
   "source": [
    "References:\n",
    "\n",
    "N. Bodor and P. Buchwald: Recent advances in the brain targeting of neuropharmaceuticals by chemical delivery systems. In: Adv Drug Deliv Rev 36, 1999, pp. 229-254.\n",
    "\n",
    "Prediction of Physicochemical Parameters by Atomic Contributions\n",
    "Scott A. Wildman and Gordon M. Crippen\n",
    "Journal of Chemical Information and Computer Sciences 1999 39 (5), 868-873\n",
    "DOI: 10.1021/ci990307l"
   ]
  }
 ],
 "metadata": {
  "celltoolbar": "Raw Cell Format",
  "kernelspec": {
   "display_name": "Python 3 (ipykernel)",
   "language": "python",
   "name": "python3"
  },
  "language_info": {
   "codemirror_mode": {
    "name": "ipython",
    "version": 3
   },
   "file_extension": ".py",
   "mimetype": "text/x-python",
   "name": "python",
   "nbconvert_exporter": "python",
   "pygments_lexer": "ipython3",
   "version": "3.9.2"
  }
 },
 "nbformat": 4,
 "nbformat_minor": 5
}
